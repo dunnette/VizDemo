{
 "metadata": {
  "name": "",
  "signature": "sha256:61be4a915e5843f266ec2bc8f56c363c5b78a780f7ca6d049ea028e5ce0a613b"
 },
 "nbformat": 3,
 "nbformat_minor": 0,
 "worksheets": [
  {
   "cells": [
    {
     "cell_type": "code",
     "collapsed": false,
     "input": [
      "import oauth2\n",
      "import json\n",
      "\n",
      "CONSUMER_KEY = ''\n",
      "CONSUMER_SECRET =''\n",
      "ACCESS_KEY = ''\n",
      "ACCESS_SECRET = ''\n",
      "\n",
      "consumer = oauth2.Consumer(key=CONSUMER_KEY, secret=CONSUMER_SECRET)\n",
      "access_token = oauth2.Token(key=ACCESS_KEY, secret=ACCESS_SECRET)\n",
      "client = oauth2.Client(consumer, access_token)\n",
      "\n",
      "query = (\"https://api.twitter.com/1.1/search/tweets.json?\" +\n",
      "                     \"q=vine&geocode=40.7127,-74.0059,100mi&count=100\")\n",
      "response, data = client.request(query)\n",
      "\n",
      "requestData = json.loads(data)\n",
      "statuses = requestData['statuses']\n",
      "\n",
      "#requestData['search_metadata']['next_results']\n",
      "\n",
      "dataList = [ (status['user']['screen_name'], \n",
      "              time.strftime('%m/%d/%Y %H:%M:%S',\n",
      "                            (time.strptime(status['created_at'], '%a %b %d %H:%M:%S +0000 %Y'))),\n",
      "              status['text'].encode('ascii', 'ignore'), \n",
      "              status['coordinates']['coordinates'][0], status['coordinates']['coordinates'][1],\n",
      "              'https://twitter.com/{0}/status/{1}'.format(status['user']['screen_name'],\n",
      "                                                          status['id'])) \n",
      "              for status in statuses ]"
     ],
     "language": "python",
     "metadata": {},
     "outputs": [
      {
       "ename": "KeyError",
       "evalue": "'statuses'",
       "output_type": "pyerr",
       "traceback": [
        "\u001b[0;31m---------------------------------------------------------------------------\u001b[0m\n\u001b[0;31mKeyError\u001b[0m                                  Traceback (most recent call last)",
        "\u001b[0;32m<ipython-input-39-ec846de534d8>\u001b[0m in \u001b[0;36m<module>\u001b[0;34m()\u001b[0m\n\u001b[1;32m     16\u001b[0m \u001b[0;34m\u001b[0m\u001b[0m\n\u001b[1;32m     17\u001b[0m \u001b[0mrequestData\u001b[0m \u001b[0;34m=\u001b[0m \u001b[0mjson\u001b[0m\u001b[0;34m.\u001b[0m\u001b[0mloads\u001b[0m\u001b[0;34m(\u001b[0m\u001b[0mdata\u001b[0m\u001b[0;34m)\u001b[0m\u001b[0;34m\u001b[0m\u001b[0m\n\u001b[0;32m---> 18\u001b[0;31m \u001b[0mstatuses\u001b[0m \u001b[0;34m=\u001b[0m \u001b[0mrequestData\u001b[0m\u001b[0;34m[\u001b[0m\u001b[0;34m'statuses'\u001b[0m\u001b[0;34m]\u001b[0m\u001b[0;34m\u001b[0m\u001b[0m\n\u001b[0m\u001b[1;32m     19\u001b[0m \u001b[0;34m\u001b[0m\u001b[0m\n\u001b[1;32m     20\u001b[0m \u001b[0;31m#requestData['search_metadata']['next_results']\u001b[0m\u001b[0;34m\u001b[0m\u001b[0;34m\u001b[0m\u001b[0m\n",
        "\u001b[0;31mKeyError\u001b[0m: 'statuses'"
       ]
      }
     ],
     "prompt_number": 39
    },
    {
     "cell_type": "code",
     "collapsed": false,
     "input": [
      "import csv\n",
      "with open('vineData.csv', 'wb') as csvfile:\n",
      "    vineCsv = csv.writer(csvfile)\n",
      "    vineCsv.writerow(('user', 'time', 'text', 'longitude', 'latitude', 'link'))\n",
      "    vineCsv.writerows(dataList)"
     ],
     "language": "python",
     "metadata": {},
     "outputs": [],
     "prompt_number": 37
    },
    {
     "cell_type": "code",
     "collapsed": false,
     "input": [],
     "language": "python",
     "metadata": {},
     "outputs": []
    }
   ],
   "metadata": {}
  }
 ]
}
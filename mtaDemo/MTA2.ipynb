{
 "cells": [
  {
   "cell_type": "code",
   "execution_count": 1,
   "metadata": {
    "collapsed": true
   },
   "outputs": [],
   "source": [
    "import datetime\n",
    "import pandas as pd\n",
    "import urllib2\n",
    "import csv\n",
    "import numpy as np\n",
    "from matplotlib import pyplot as plt"
   ]
  },
  {
   "cell_type": "code",
   "execution_count": 2,
   "metadata": {
    "collapsed": false
   },
   "outputs": [],
   "source": [
    "def get_mta_df(source, original_format=True):\n",
    "    if original_format:\n",
    "        return get_mta_df_old(source)\n",
    "    else:\n",
    "        return get_mta_df_new(source)\n",
    "\n",
    "def get_mta_df_old(source):\n",
    "    # Import data format prior to 10/18/14\n",
    "    col_names = ['C/A', 'UNIT', 'SCP', 'DATETIME', 'DESC', 'ENTRIES', 'EXITS']\n",
    "    raw_data = urllib2.urlopen(source)\n",
    "    reader = csv.reader((raw_line.replace('\\0','') for raw_line in raw_data), delimiter=\",\")\n",
    "    mta_list = list()\n",
    "    for row in reader:\n",
    "        for entry_num in range(0,8):\n",
    "            offset = entry_num*5\n",
    "            try:\n",
    "                mta_list.append([row[0], row[1], row[2], \n",
    "                                 datetime.datetime.strptime('{} {}'.format(row[3+offset],\n",
    "                                                                           row[4+offset]),\n",
    "                                                            '%m-%d-%y %H:%M:%S'),\n",
    "                                 row[5+offset], int(row[6+offset]), int(row[7+offset]),\n",
    "                                ])\n",
    "            except:\n",
    "                pass\n",
    "    mta_df = pd.DataFrame(mta_list, columns = col_names)\n",
    "    return mta_df\n",
    "\n",
    "def get_mta_df_new(source):\n",
    "    # Import data format post 10/18/14\n",
    "    col_names = ['C/A', 'UNIT', 'SCP', 'STATION', 'LINENAME', 'DIVISION', \n",
    "                 'DATE', 'TIME', 'DESC', 'ENTRIES', 'EXITS']\n",
    "    mta_df = pd.read_csv(source, sep = ',', skiprows=1, header=None, names=col_names)\n",
    "    mta_df['DATETIME'] = mta_df.apply(lambda x: \n",
    "                                      datetime.datetime.strptime('{} {}'.format(x.DATE,x.TIME),\n",
    "                                                                 '%m/%d/%Y %H:%M:%S'), axis=1)\n",
    "    return mta_df\n",
    "\n",
    "def get_mta_df_by_date(date):\n",
    "    original_format = date < datetime.datetime(2014,10,18)\n",
    "    source_url_temp = 'http://web.mta.info/developers/data/nyct/turnstile/turnstile_{}.txt'\n",
    "    source_url = source_url_temp.format(date.strftime('%y%m%d'))\n",
    "    return get_mta_df(source_url,original_format)\n",
    "\n",
    "def get_mta_df_by_date_range(date, num_weeks):\n",
    "    df_arry = []\n",
    "    for week in range(0, num_weeks):\n",
    "        run_date = date + datetime.timedelta(days = week*7)\n",
    "        df_arry.append(get_mta_df_by_date(run_date))\n",
    "    return pd.concat(df_arry)\n",
    "\n",
    "def agg_by_station(target_df, stat_array):\n",
    "    merged_df = merge_station(target_df)\n",
    "    return merged_df.groupby('Station')[stat_array].sum()\n",
    "\n",
    "def agg_by_station_date(target_df, stat_array):\n",
    "    merged_df = merge_station(target_df)\n",
    "    return merged_df.groupby(['Station','DATE'])[stat_array].sum()\n",
    "\n",
    "def merge_station(target_df):\n",
    "    return merge_station_strict(target_df)\n",
    "\n",
    "def get_yankee_schedule():\n",
    "    source = 'https://www.dropbox.com/s/2g5itrjc6mo4huu/yankee_home_2013.csv?dl=1'\n",
    "    sched = pd.read_csv(source)\n",
    "    # Restrict to night games\n",
    "    sched = sched[sched['D/N']=='N']\n",
    "    sched['Datetime'] = sched.apply(lambda x:\n",
    "                                    datetime.datetime.strptime(x.Datetime,\n",
    "                                                               '%m/%d/%Y %H:%M'),axis=1)\n",
    "    sched['Date'] = sched.Datetime.dt.date\n",
    "    return sched[['Date','Opp','Attendance']]\n",
    "\n",
    "def get_station_table():\n",
    "    source = 'http://web.mta.info/developers/resources/nyct/turnstile/Remote-Booth-Station.xls'\n",
    "    station_table = pd.read_excel(source)\n",
    "    return station_table\n",
    "\n",
    "def merge_station_strict(target_df):\n",
    "    station_table_raw = get_station_table()\n",
    "    station_table = station_table_raw[['Remote','Booth','Station']].drop_duplicates()\n",
    "    station_table = station_table.groupby(['Remote','Booth']).sum().reset_index()\n",
    "    merged_df = target_df.merge(station_table,\n",
    "                                left_on=['UNIT','C/A'],\n",
    "                                right_on=['Remote','Booth'],\n",
    "                                how='left')\n",
    "    return merged_df\n",
    "\n",
    "def merge_station_fuzzy(target_df):\n",
    "    station_table_raw = get_station_table()\n",
    "    station_table = station_table_raw[['Remote','Station']].drop_duplicates()\n",
    "    station_table = station_table.groupby(['Remote']).sum().reset_index()\n",
    "    merged_df = target_df.merge(station_table,left_on='UNIT',right_on='Remote',how='left')\n",
    "    return merged_df\n",
    "\n",
    "def calc_deltas(df):\n",
    "    data_df = df[df.DESC=='REGULAR'].sort_values(['C/A','UNIT','SCP','DATETIME'])\n",
    "    data_df_lag = data_df.groupby(['C/A','UNIT','SCP']).transform(lambda x:x.shift(-1))\n",
    "    data_df.loc[:,'ENTRIES_end'] = data_df_lag['ENTRIES']\n",
    "    data_df.loc[:,'EXITS_end'] = data_df_lag['EXITS']\n",
    "    data_df['ENTRIES_delta'] = data_df.ENTRIES_end - data_df.ENTRIES\n",
    "    data_df['EXITS_delta'] = data_df.EXITS_end - data_df.EXITS\n",
    "    \n",
    "    # Discard negative counts\n",
    "    data_df.loc[data_df['ENTRIES_delta']<0,'ENTRIES_delta'] = 0\n",
    "    data_df.loc[data_df['EXITS_delta']<0,'EXITS_delta'] = 0\n",
    "    \n",
    "    # Discard counts implying > 20 rotations per minute (20*60*4)\n",
    "    data_df.loc[data_df['ENTRIES_delta']>4800,'ENTRIES_delta'] = 0\n",
    "    data_df.loc[data_df['EXITS_delta']>4800,'EXITS_delta'] = 0\n",
    "    \n",
    "    return data_df"
   ]
  },
  {
   "cell_type": "markdown",
   "metadata": {},
   "source": [
    "# Total Entries and Exits"
   ]
  },
  {
   "cell_type": "markdown",
   "metadata": {
    "collapsed": false
   },
   "source": [
    "What is the total number of entries & exits across the subway system for August 1, 2013?"
   ]
  },
  {
   "cell_type": "code",
   "execution_count": 4,
   "metadata": {
    "collapsed": false
   },
   "outputs": [
    {
     "data": {
      "text/plain": [
       "ENTRIES_delta    5562793\n",
       "EXITS_delta      4409520\n",
       "dtype: float64"
      ]
     },
     "execution_count": 4,
     "metadata": {},
     "output_type": "execute_result"
    }
   ],
   "source": [
    "data = get_mta_df_by_date(datetime.datetime(2013,8,3))\n",
    "data_deltas = calc_deltas(data)\n",
    "data_deltas = data_deltas[(data_deltas.DATETIME>=datetime.datetime(2013,8,1))&\n",
    "                          (data_deltas.DATETIME<datetime.datetime(2013,8,2))]\n",
    "data_deltas[['ENTRIES_delta','EXITS_delta']].sum()"
   ]
  },
  {
   "cell_type": "markdown",
   "metadata": {},
   "source": [
    "The subway system saw 5,562,793 entries and 4,409,520 exits across the subway system on August 1, 2013\n",
    "\n",
    "Note turnstiles that reported less than zero / more than 20 rotations per minute over any four hour period were discarded."
   ]
  },
  {
   "cell_type": "markdown",
   "metadata": {},
   "source": [
    "# The busiest stations and turnstiles"
   ]
  },
  {
   "cell_type": "markdown",
   "metadata": {
    "collapsed": false
   },
   "source": [
    "Let’s define the busy-ness as sum of entry & exit count. What station was the busiest on August 1, 2013? What turnstile was the busiest on that date?"
   ]
  },
  {
   "cell_type": "code",
   "execution_count": 7,
   "metadata": {
    "collapsed": false
   },
   "outputs": [
    {
     "data": {
      "text/html": [
       "<div>\n",
       "<table border=\"1\" class=\"dataframe\">\n",
       "  <thead>\n",
       "    <tr style=\"text-align: right;\">\n",
       "      <th></th>\n",
       "      <th>ENTRIES_delta</th>\n",
       "      <th>EXITS_delta</th>\n",
       "      <th>TOTAL_delta</th>\n",
       "    </tr>\n",
       "    <tr>\n",
       "      <th>Station</th>\n",
       "      <th></th>\n",
       "      <th></th>\n",
       "      <th></th>\n",
       "    </tr>\n",
       "  </thead>\n",
       "  <tbody>\n",
       "    <tr>\n",
       "      <th>34 ST-PENN STA</th>\n",
       "      <td>175185</td>\n",
       "      <td>155858</td>\n",
       "      <td>331043</td>\n",
       "    </tr>\n",
       "    <tr>\n",
       "      <th>42 ST-GRD CNTRL</th>\n",
       "      <td>164823</td>\n",
       "      <td>151271</td>\n",
       "      <td>316094</td>\n",
       "    </tr>\n",
       "    <tr>\n",
       "      <th>34 ST-HERALD SQ</th>\n",
       "      <td>122548</td>\n",
       "      <td>114529</td>\n",
       "      <td>237077</td>\n",
       "    </tr>\n",
       "  </tbody>\n",
       "</table>\n",
       "</div>"
      ],
      "text/plain": [
       "                 ENTRIES_delta  EXITS_delta  TOTAL_delta\n",
       "Station                                                 \n",
       "34 ST-PENN STA          175185       155858       331043\n",
       "42 ST-GRD CNTRL         164823       151271       316094\n",
       "34 ST-HERALD SQ         122548       114529       237077"
      ]
     },
     "execution_count": 7,
     "metadata": {},
     "output_type": "execute_result"
    }
   ],
   "source": [
    "data = get_mta_df_by_date(datetime.datetime(2013,8,3))\n",
    "data_deltas = calc_deltas(data)\n",
    "data_deltas = data_deltas[(data_deltas.DATETIME>=datetime.datetime(2013,8,1))&\n",
    "                          (data_deltas.DATETIME<datetime.datetime(2013,8,2))]\n",
    "station_rollup = agg_by_station(data_deltas,['ENTRIES_delta','EXITS_delta'])\n",
    "station_rollup['TOTAL_delta'] = station_rollup.ENTRIES_delta + station_rollup.EXITS_delta\n",
    "station_rollup.sort_values('TOTAL_delta',ascending=False).head(3)"
   ]
  },
  {
   "cell_type": "markdown",
   "metadata": {},
   "source": [
    "The busiest station on August 1, 2013 was 34th Street – Penn Station"
   ]
  },
  {
   "cell_type": "code",
   "execution_count": 8,
   "metadata": {
    "collapsed": false
   },
   "outputs": [
    {
     "data": {
      "text/html": [
       "<div>\n",
       "<table border=\"1\" class=\"dataframe\">\n",
       "  <thead>\n",
       "    <tr style=\"text-align: right;\">\n",
       "      <th></th>\n",
       "      <th></th>\n",
       "      <th></th>\n",
       "      <th>ENTRIES_delta</th>\n",
       "      <th>EXITS_delta</th>\n",
       "      <th>TOTAL_delta</th>\n",
       "    </tr>\n",
       "    <tr>\n",
       "      <th>C/A</th>\n",
       "      <th>UNIT</th>\n",
       "      <th>SCP</th>\n",
       "      <th></th>\n",
       "      <th></th>\n",
       "      <th></th>\n",
       "    </tr>\n",
       "  </thead>\n",
       "  <tbody>\n",
       "    <tr>\n",
       "      <th>N063A</th>\n",
       "      <th>R011</th>\n",
       "      <th>00-00-00</th>\n",
       "      <td>1882</td>\n",
       "      <td>9963</td>\n",
       "      <td>11845</td>\n",
       "    </tr>\n",
       "    <tr>\n",
       "      <th>R249</th>\n",
       "      <th>R179</th>\n",
       "      <th>01-00-09</th>\n",
       "      <td>964</td>\n",
       "      <td>10559</td>\n",
       "      <td>11523</td>\n",
       "    </tr>\n",
       "    <tr>\n",
       "      <th>R240</th>\n",
       "      <th>R047</th>\n",
       "      <th>00-00-00</th>\n",
       "      <td>3755</td>\n",
       "      <td>7302</td>\n",
       "      <td>11057</td>\n",
       "    </tr>\n",
       "  </tbody>\n",
       "</table>\n",
       "</div>"
      ],
      "text/plain": [
       "                     ENTRIES_delta  EXITS_delta  TOTAL_delta\n",
       "C/A   UNIT SCP                                              \n",
       "N063A R011 00-00-00           1882         9963        11845\n",
       "R249  R179 01-00-09            964        10559        11523\n",
       "R240  R047 00-00-00           3755         7302        11057"
      ]
     },
     "execution_count": 8,
     "metadata": {},
     "output_type": "execute_result"
    }
   ],
   "source": [
    "turnstile_rollup = data_deltas.groupby(['C/A','UNIT','SCP'])[['ENTRIES_delta','EXITS_delta']].sum()\n",
    "turnstile_rollup['TOTAL_delta'] = turnstile_rollup.ENTRIES_delta + turnstile_rollup.EXITS_delta\n",
    "turnstile_rollup.sort_values('TOTAL_delta',ascending=False).head(3)"
   ]
  },
  {
   "cell_type": "markdown",
   "metadata": {},
   "source": [
    "The busiest turnstile on August 1, 2013 was 00-00-00 at Times Square – 42nd Street / Port Authority Bus Terminal (N063A R011)"
   ]
  },
  {
   "cell_type": "markdown",
   "metadata": {},
   "source": [
    "# The busiest stations in July"
   ]
  },
  {
   "cell_type": "markdown",
   "metadata": {},
   "source": [
    "What were the busiest and least-busy stations in the system over all of July 2013?"
   ]
  },
  {
   "cell_type": "code",
   "execution_count": 10,
   "metadata": {
    "collapsed": false
   },
   "outputs": [
    {
     "data": {
      "text/html": [
       "<div>\n",
       "<table border=\"1\" class=\"dataframe\">\n",
       "  <thead>\n",
       "    <tr style=\"text-align: right;\">\n",
       "      <th></th>\n",
       "      <th>ENTRIES_delta</th>\n",
       "      <th>EXITS_delta</th>\n",
       "      <th>TOTAL_delta</th>\n",
       "    </tr>\n",
       "    <tr>\n",
       "      <th>Station</th>\n",
       "      <th></th>\n",
       "      <th></th>\n",
       "      <th></th>\n",
       "    </tr>\n",
       "  </thead>\n",
       "  <tbody>\n",
       "    <tr>\n",
       "      <th>34 ST-PENN STA</th>\n",
       "      <td>4577775</td>\n",
       "      <td>4018278</td>\n",
       "      <td>8596053</td>\n",
       "    </tr>\n",
       "    <tr>\n",
       "      <th>42 ST-GRD CNTRL</th>\n",
       "      <td>3848128</td>\n",
       "      <td>3610248</td>\n",
       "      <td>7458376</td>\n",
       "    </tr>\n",
       "    <tr>\n",
       "      <th>34 ST-HERALD SQ</th>\n",
       "      <td>3205652</td>\n",
       "      <td>2985543</td>\n",
       "      <td>6191195</td>\n",
       "    </tr>\n",
       "  </tbody>\n",
       "</table>\n",
       "</div>"
      ],
      "text/plain": [
       "                 ENTRIES_delta  EXITS_delta  TOTAL_delta\n",
       "Station                                                 \n",
       "34 ST-PENN STA         4577775      4018278      8596053\n",
       "42 ST-GRD CNTRL        3848128      3610248      7458376\n",
       "34 ST-HERALD SQ        3205652      2985543      6191195"
      ]
     },
     "execution_count": 10,
     "metadata": {},
     "output_type": "execute_result"
    }
   ],
   "source": [
    "data = get_mta_df_by_date_range(datetime.datetime(2013,7,6),5)\n",
    "data_deltas = calc_deltas(data)\n",
    "data_deltas = data_deltas[(data_deltas.DATETIME>=datetime.datetime(2013,7,1))&\n",
    "                          (data_deltas.DATETIME<datetime.datetime(2013,8,1))]\n",
    "station_rollup = agg_by_station(data_deltas,['ENTRIES_delta','EXITS_delta'])\n",
    "station_rollup['TOTAL_delta'] = station_rollup.ENTRIES_delta + station_rollup.EXITS_delta\n",
    "station_rollup.sort_values('TOTAL_delta',ascending=False).head(3)"
   ]
  },
  {
   "cell_type": "markdown",
   "metadata": {},
   "source": [
    "The busiest station in August 2013 was 34th Street – Penn Station"
   ]
  },
  {
   "cell_type": "code",
   "execution_count": 11,
   "metadata": {
    "collapsed": false
   },
   "outputs": [
    {
     "data": {
      "text/html": [
       "<div>\n",
       "<table border=\"1\" class=\"dataframe\">\n",
       "  <thead>\n",
       "    <tr style=\"text-align: right;\">\n",
       "      <th></th>\n",
       "      <th>ENTRIES_delta</th>\n",
       "      <th>EXITS_delta</th>\n",
       "      <th>TOTAL_delta</th>\n",
       "    </tr>\n",
       "    <tr>\n",
       "      <th>Station</th>\n",
       "      <th></th>\n",
       "      <th></th>\n",
       "      <th></th>\n",
       "    </tr>\n",
       "  </thead>\n",
       "  <tbody>\n",
       "    <tr>\n",
       "      <th>ORCHARD BEACH</th>\n",
       "      <td>16260</td>\n",
       "      <td>1002</td>\n",
       "      <td>17262</td>\n",
       "    </tr>\n",
       "    <tr>\n",
       "      <th>BROAD CHANNEL</th>\n",
       "      <td>5772</td>\n",
       "      <td>2677</td>\n",
       "      <td>8449</td>\n",
       "    </tr>\n",
       "    <tr>\n",
       "      <th>AQUEDUCT TRACK</th>\n",
       "      <td>117</td>\n",
       "      <td>152</td>\n",
       "      <td>269</td>\n",
       "    </tr>\n",
       "  </tbody>\n",
       "</table>\n",
       "</div>"
      ],
      "text/plain": [
       "                ENTRIES_delta  EXITS_delta  TOTAL_delta\n",
       "Station                                                \n",
       "ORCHARD BEACH           16260         1002        17262\n",
       "BROAD CHANNEL            5772         2677         8449\n",
       "AQUEDUCT TRACK            117          152          269"
      ]
     },
     "execution_count": 11,
     "metadata": {},
     "output_type": "execute_result"
    }
   ],
   "source": [
    "station_rollup.sort_values('TOTAL_delta',ascending=False).tail(3)"
   ]
  },
  {
   "cell_type": "markdown",
   "metadata": {},
   "source": [
    "The least busiest station in August 2013 was Aqueduct Racetrack"
   ]
  },
  {
   "cell_type": "markdown",
   "metadata": {},
   "source": [
    "# The busiest stations on Friday nights"
   ]
  },
  {
   "cell_type": "markdown",
   "metadata": {},
   "source": [
    "Which station had the highest average number of entries between midnight & 4am on Fridays in July 2013?"
   ]
  },
  {
   "cell_type": "code",
   "execution_count": 18,
   "metadata": {
    "collapsed": false
   },
   "outputs": [
    {
     "data": {
      "text/html": [
       "<div>\n",
       "<table border=\"1\" class=\"dataframe\">\n",
       "  <thead>\n",
       "    <tr style=\"text-align: right;\">\n",
       "      <th></th>\n",
       "      <th>ENTRIES_delta</th>\n",
       "      <th>EXITS_delta</th>\n",
       "    </tr>\n",
       "    <tr>\n",
       "      <th>Station</th>\n",
       "      <th></th>\n",
       "      <th></th>\n",
       "    </tr>\n",
       "  </thead>\n",
       "  <tbody>\n",
       "    <tr>\n",
       "      <th>42 ST-TIMES SQ</th>\n",
       "      <td>23885</td>\n",
       "      <td>6115</td>\n",
       "    </tr>\n",
       "    <tr>\n",
       "      <th>34 ST-HERALD SQ</th>\n",
       "      <td>11211</td>\n",
       "      <td>4441</td>\n",
       "    </tr>\n",
       "    <tr>\n",
       "      <th>34 ST-PENN STA</th>\n",
       "      <td>9361</td>\n",
       "      <td>5119</td>\n",
       "    </tr>\n",
       "  </tbody>\n",
       "</table>\n",
       "</div>"
      ],
      "text/plain": [
       "                 ENTRIES_delta  EXITS_delta\n",
       "Station                                    \n",
       "42 ST-TIMES SQ           23885         6115\n",
       "34 ST-HERALD SQ          11211         4441\n",
       "34 ST-PENN STA            9361         5119"
      ]
     },
     "execution_count": 18,
     "metadata": {},
     "output_type": "execute_result"
    }
   ],
   "source": [
    "data = get_mta_df_by_date_range(datetime.datetime(2013,7,6),5)\n",
    "data_deltas = calc_deltas(data)\n",
    "data_deltas = data_deltas[(data_deltas.DATETIME>=datetime.datetime(2013,7,1))&\n",
    "                          (data_deltas.DATETIME<datetime.datetime(2013,8,1))&\n",
    "                          (data_deltas.DATETIME.dt.time==datetime.time(0,0,0))&\n",
    "                          (data_deltas.DATETIME.dt.dayofweek==4)]\n",
    "station_rollup = agg_by_station(data_deltas,['ENTRIES_delta','EXITS_delta'])\n",
    "station_rollup.sort_values('ENTRIES_delta',ascending=False).head(3)"
   ]
  },
  {
   "cell_type": "markdown",
   "metadata": {},
   "source": [
    "Times Square – 42nd Street / Port Authority Bus Terminal had the highest average number of entries between midnight & 4am on Fridays in July 2013."
   ]
  },
  {
   "cell_type": "markdown",
   "metadata": {},
   "source": [
    "# Usage Growth"
   ]
  },
  {
   "cell_type": "markdown",
   "metadata": {},
   "source": [
    "What stations have seen the most usage growth/decline in the last year?"
   ]
  },
  {
   "cell_type": "code",
   "execution_count": 19,
   "metadata": {
    "collapsed": false
   },
   "outputs": [],
   "source": [
    "data_t0 = get_mta_df_by_date_range(datetime.datetime(2015,1,3),4)\n",
    "data_t1 = get_mta_df_by_date_range(datetime.datetime(2016,1,2),4)"
   ]
  },
  {
   "cell_type": "markdown",
   "metadata": {},
   "source": [
    "We can define station a few different ways. The most obvious is the self reported station name."
   ]
  },
  {
   "cell_type": "code",
   "execution_count": 160,
   "metadata": {
    "collapsed": false
   },
   "outputs": [
    {
     "data": {
      "text/html": [
       "<div>\n",
       "<table border=\"1\" class=\"dataframe\">\n",
       "  <thead>\n",
       "    <tr style=\"text-align: right;\">\n",
       "      <th></th>\n",
       "      <th>ENTRIES_delta_t0</th>\n",
       "      <th>EXITS_delta_t0</th>\n",
       "      <th>ENTRIES_delta_t1</th>\n",
       "      <th>EXITS_delta_t1</th>\n",
       "      <th>YoY</th>\n",
       "    </tr>\n",
       "    <tr>\n",
       "      <th>STATION</th>\n",
       "      <th></th>\n",
       "      <th></th>\n",
       "      <th></th>\n",
       "      <th></th>\n",
       "      <th></th>\n",
       "    </tr>\n",
       "  </thead>\n",
       "  <tbody>\n",
       "    <tr>\n",
       "      <th>SUTPHIN BLVD</th>\n",
       "      <td>653496</td>\n",
       "      <td>507420</td>\n",
       "      <td>104683</td>\n",
       "      <td>62885</td>\n",
       "      <td>-993348</td>\n",
       "    </tr>\n",
       "    <tr>\n",
       "      <th>21 ST</th>\n",
       "      <td>203449</td>\n",
       "      <td>174611</td>\n",
       "      <td>39987</td>\n",
       "      <td>44831</td>\n",
       "      <td>-293242</td>\n",
       "    </tr>\n",
       "    <tr>\n",
       "      <th>VAN SICLEN AVE</th>\n",
       "      <td>215916</td>\n",
       "      <td>155170</td>\n",
       "      <td>74333</td>\n",
       "      <td>67641</td>\n",
       "      <td>-229112</td>\n",
       "    </tr>\n",
       "    <tr>\n",
       "      <th>34 ST-PENN STA</th>\n",
       "      <td>3977861</td>\n",
       "      <td>3389783</td>\n",
       "      <td>3884926</td>\n",
       "      <td>3269389</td>\n",
       "      <td>-213329</td>\n",
       "    </tr>\n",
       "    <tr>\n",
       "      <th>METS-WILLETS PT</th>\n",
       "      <td>144020</td>\n",
       "      <td>167220</td>\n",
       "      <td>49402</td>\n",
       "      <td>53041</td>\n",
       "      <td>-208797</td>\n",
       "    </tr>\n",
       "  </tbody>\n",
       "</table>\n",
       "</div>"
      ],
      "text/plain": [
       "                 ENTRIES_delta_t0  EXITS_delta_t0  ENTRIES_delta_t1  \\\n",
       "STATION                                                               \n",
       "SUTPHIN BLVD               653496          507420            104683   \n",
       "21 ST                      203449          174611             39987   \n",
       "VAN SICLEN AVE             215916          155170             74333   \n",
       "34 ST-PENN STA            3977861         3389783           3884926   \n",
       "METS-WILLETS PT            144020          167220             49402   \n",
       "\n",
       "                 EXITS_delta_t1     YoY  \n",
       "STATION                                  \n",
       "SUTPHIN BLVD              62885 -993348  \n",
       "21 ST                     44831 -293242  \n",
       "VAN SICLEN AVE            67641 -229112  \n",
       "34 ST-PENN STA          3269389 -213329  \n",
       "METS-WILLETS PT           53041 -208797  "
      ]
     },
     "execution_count": 160,
     "metadata": {},
     "output_type": "execute_result"
    }
   ],
   "source": [
    "station_rollup_t0 = calc_deltas(data_t0).groupby('STATION')[['ENTRIES_delta','EXITS_delta']].sum()\n",
    "station_rollup_t1 = calc_deltas(data_t1).groupby('STATION')[['ENTRIES_delta','EXITS_delta']].sum()\n",
    "station_rollup = station_rollup_t0.join(station_rollup_t1, lsuffix='_t0', rsuffix='_t1', how='outer')\n",
    "station_rollup = station_rollup.fillna(0)\n",
    "station_rollup['YoY'] = station_rollup.ENTRIES_delta_t1 + station_rollup.EXITS_delta_t1 - station_rollup.ENTRIES_delta_t0 - station_rollup.EXITS_delta_t0\n",
    "# Drop station names that do not exist in both periods\n",
    "station_rollup[(station_rollup.ENTRIES_delta_t0+station_rollup.EXITS_delta_t0>0) &\n",
    "               (station_rollup.ENTRIES_delta_t1+station_rollup.EXITS_delta_t1>0)].sort_values('YoY').head()"
   ]
  },
  {
   "cell_type": "markdown",
   "metadata": {},
   "source": [
    "By this metric, Sutphin Boulevard saw the largest drop. However this is largely because remote unit R024 was transferred from SUTPHIN BLVD to SUTPHIN-ARCHER in mid 2015. Similarly remote unit R303 was transferred from 21 ST to 21 ST-QNSBRIDGE and remote unit R434 was transferred from VAN SICLEN AVE to VAN SICLEN AV. The largest station drop with consistent remote units was 34th Street – Penn Station."
   ]
  },
  {
   "cell_type": "code",
   "execution_count": 126,
   "metadata": {
    "collapsed": false
   },
   "outputs": [
    {
     "data": {
      "text/html": [
       "<div>\n",
       "<table border=\"1\" class=\"dataframe\">\n",
       "  <thead>\n",
       "    <tr style=\"text-align: right;\">\n",
       "      <th></th>\n",
       "      <th>ENTRIES_delta_t0</th>\n",
       "      <th>EXITS_delta_t0</th>\n",
       "      <th>ENTRIES_delta_t1</th>\n",
       "      <th>EXITS_delta_t1</th>\n",
       "      <th>YoY</th>\n",
       "    </tr>\n",
       "    <tr>\n",
       "      <th>STATION</th>\n",
       "      <th></th>\n",
       "      <th></th>\n",
       "      <th></th>\n",
       "      <th></th>\n",
       "      <th></th>\n",
       "    </tr>\n",
       "  </thead>\n",
       "  <tbody>\n",
       "    <tr>\n",
       "      <th>WORLD TRADE CTR</th>\n",
       "      <td>287948</td>\n",
       "      <td>145531</td>\n",
       "      <td>335891</td>\n",
       "      <td>173800</td>\n",
       "      <td>76212</td>\n",
       "    </tr>\n",
       "    <tr>\n",
       "      <th>BOWLING GREEN</th>\n",
       "      <td>625253</td>\n",
       "      <td>578117</td>\n",
       "      <td>677530</td>\n",
       "      <td>615303</td>\n",
       "      <td>89463</td>\n",
       "    </tr>\n",
       "    <tr>\n",
       "      <th>PATH WTC 2</th>\n",
       "      <td>9950</td>\n",
       "      <td>26927</td>\n",
       "      <td>15662</td>\n",
       "      <td>204521</td>\n",
       "      <td>183306</td>\n",
       "    </tr>\n",
       "    <tr>\n",
       "      <th>DYCKMAN ST</th>\n",
       "      <td>167529</td>\n",
       "      <td>82718</td>\n",
       "      <td>328551</td>\n",
       "      <td>105554</td>\n",
       "      <td>183858</td>\n",
       "    </tr>\n",
       "    <tr>\n",
       "      <th>FULTON ST</th>\n",
       "      <td>1535037</td>\n",
       "      <td>1359578</td>\n",
       "      <td>1667897</td>\n",
       "      <td>1420392</td>\n",
       "      <td>193674</td>\n",
       "    </tr>\n",
       "    <tr>\n",
       "      <th>59 ST</th>\n",
       "      <td>1420518</td>\n",
       "      <td>1329697</td>\n",
       "      <td>1823457</td>\n",
       "      <td>1405696</td>\n",
       "      <td>478938</td>\n",
       "    </tr>\n",
       "    <tr>\n",
       "      <th>BROADWAY</th>\n",
       "      <td>86346</td>\n",
       "      <td>70922</td>\n",
       "      <td>403196</td>\n",
       "      <td>317784</td>\n",
       "      <td>563712</td>\n",
       "    </tr>\n",
       "    <tr>\n",
       "      <th>28 ST</th>\n",
       "      <td>805378</td>\n",
       "      <td>712336</td>\n",
       "      <td>1088218</td>\n",
       "      <td>1020814</td>\n",
       "      <td>591318</td>\n",
       "    </tr>\n",
       "    <tr>\n",
       "      <th>14 ST</th>\n",
       "      <td>935963</td>\n",
       "      <td>692746</td>\n",
       "      <td>1353799</td>\n",
       "      <td>1149621</td>\n",
       "      <td>874711</td>\n",
       "    </tr>\n",
       "    <tr>\n",
       "      <th>23 ST</th>\n",
       "      <td>1433444</td>\n",
       "      <td>1094772</td>\n",
       "      <td>2459564</td>\n",
       "      <td>1908251</td>\n",
       "      <td>1839599</td>\n",
       "    </tr>\n",
       "  </tbody>\n",
       "</table>\n",
       "</div>"
      ],
      "text/plain": [
       "                 ENTRIES_delta_t0  EXITS_delta_t0  ENTRIES_delta_t1  \\\n",
       "STATION                                                               \n",
       "WORLD TRADE CTR            287948          145531            335891   \n",
       "BOWLING GREEN              625253          578117            677530   \n",
       "PATH WTC 2                   9950           26927             15662   \n",
       "DYCKMAN ST                 167529           82718            328551   \n",
       "FULTON ST                 1535037         1359578           1667897   \n",
       "59 ST                     1420518         1329697           1823457   \n",
       "BROADWAY                    86346           70922            403196   \n",
       "28 ST                      805378          712336           1088218   \n",
       "14 ST                      935963          692746           1353799   \n",
       "23 ST                     1433444         1094772           2459564   \n",
       "\n",
       "                 EXITS_delta_t1      YoY  \n",
       "STATION                                   \n",
       "WORLD TRADE CTR          173800    76212  \n",
       "BOWLING GREEN            615303    89463  \n",
       "PATH WTC 2               204521   183306  \n",
       "DYCKMAN ST               105554   183858  \n",
       "FULTON ST               1420392   193674  \n",
       "59 ST                   1405696   478938  \n",
       "BROADWAY                 317784   563712  \n",
       "28 ST                   1020814   591318  \n",
       "14 ST                   1149621   874711  \n",
       "23 ST                   1908251  1839599  "
      ]
     },
     "execution_count": 126,
     "metadata": {},
     "output_type": "execute_result"
    }
   ],
   "source": [
    "station_rollup[(station_rollup.ENTRIES_delta_t0+station_rollup.EXITS_delta_t0>0) &\n",
    "               (station_rollup.ENTRIES_delta_t1+station_rollup.EXITS_delta_t1>0)].sort_values('YoY').tail(10)"
   ]
  },
  {
   "cell_type": "markdown",
   "metadata": {},
   "source": [
    "Similarly remote units R083, R453, and R203 were added to 23 ST from 23 ST-5 AVE and 23 ST-6 AVE. The largest station gain with consistent remote units and naming is PATH WTC 2."
   ]
  },
  {
   "cell_type": "markdown",
   "metadata": {},
   "source": [
    "For this reason we choose to match by control area + remote unit."
   ]
  },
  {
   "cell_type": "code",
   "execution_count": 102,
   "metadata": {
    "collapsed": false,
    "scrolled": true
   },
   "outputs": [
    {
     "data": {
      "text/html": [
       "<div>\n",
       "<table border=\"1\" class=\"dataframe\">\n",
       "  <thead>\n",
       "    <tr style=\"text-align: right;\">\n",
       "      <th></th>\n",
       "      <th>ENTRIES_delta_t0</th>\n",
       "      <th>EXITS_delta_t0</th>\n",
       "      <th>ENTRIES_delta_t1</th>\n",
       "      <th>EXITS_delta_t1</th>\n",
       "      <th>YoY</th>\n",
       "    </tr>\n",
       "    <tr>\n",
       "      <th>Station</th>\n",
       "      <th></th>\n",
       "      <th></th>\n",
       "      <th></th>\n",
       "      <th></th>\n",
       "      <th></th>\n",
       "    </tr>\n",
       "  </thead>\n",
       "  <tbody>\n",
       "    <tr>\n",
       "      <th>42 ST-PA BUS TE</th>\n",
       "      <td>2464347</td>\n",
       "      <td>1891440</td>\n",
       "      <td>2204050</td>\n",
       "      <td>1719541</td>\n",
       "      <td>-432196</td>\n",
       "    </tr>\n",
       "    <tr>\n",
       "      <th>57 ST-7 AVE</th>\n",
       "      <td>645657</td>\n",
       "      <td>396508</td>\n",
       "      <td>496571</td>\n",
       "      <td>208273</td>\n",
       "      <td>-337321</td>\n",
       "    </tr>\n",
       "    <tr>\n",
       "      <th>ROCKAWAY AVE</th>\n",
       "      <td>251385</td>\n",
       "      <td>196693</td>\n",
       "      <td>129160</td>\n",
       "      <td>74923</td>\n",
       "      <td>-243995</td>\n",
       "    </tr>\n",
       "    <tr>\n",
       "      <th>34 ST-PENN STA</th>\n",
       "      <td>3977861</td>\n",
       "      <td>3389783</td>\n",
       "      <td>3884926</td>\n",
       "      <td>3269389</td>\n",
       "      <td>-213329</td>\n",
       "    </tr>\n",
       "    <tr>\n",
       "      <th>METS-WILLETS PT</th>\n",
       "      <td>144020</td>\n",
       "      <td>167220</td>\n",
       "      <td>49402</td>\n",
       "      <td>53041</td>\n",
       "      <td>-208797</td>\n",
       "    </tr>\n",
       "  </tbody>\n",
       "</table>\n",
       "</div>"
      ],
      "text/plain": [
       "                 ENTRIES_delta_t0  EXITS_delta_t0  ENTRIES_delta_t1  \\\n",
       "Station                                                               \n",
       "42 ST-PA BUS TE           2464347         1891440           2204050   \n",
       "57 ST-7 AVE                645657          396508            496571   \n",
       "ROCKAWAY AVE               251385          196693            129160   \n",
       "34 ST-PENN STA            3977861         3389783           3884926   \n",
       "METS-WILLETS PT            144020          167220             49402   \n",
       "\n",
       "                 EXITS_delta_t1     YoY  \n",
       "Station                                  \n",
       "42 ST-PA BUS TE         1719541 -432196  \n",
       "57 ST-7 AVE              208273 -337321  \n",
       "ROCKAWAY AVE              74923 -243995  \n",
       "34 ST-PENN STA          3269389 -213329  \n",
       "METS-WILLETS PT           53041 -208797  "
      ]
     },
     "execution_count": 102,
     "metadata": {},
     "output_type": "execute_result"
    }
   ],
   "source": [
    "station_rollup_t0 = agg_by_station(calc_deltas(data_t0),['ENTRIES_delta','EXITS_delta'])\n",
    "station_rollup_t1 = agg_by_station(calc_deltas(data_t1),['ENTRIES_delta','EXITS_delta'])\n",
    "station_rollup = station_rollup_t0.join(station_rollup_t1, lsuffix='_t0', rsuffix='_t1', how='outer')\n",
    "station_rollup['YoY'] = station_rollup.ENTRIES_delta_t1 + station_rollup.EXITS_delta_t1 - station_rollup.ENTRIES_delta_t0 - station_rollup.EXITS_delta_t0\n",
    "station_rollup.sort_values('YoY').head()"
   ]
  },
  {
   "cell_type": "markdown",
   "metadata": {},
   "source": [
    "By this metric, we find that Times Square – 42nd Street / Port Authority Bus Terminal (which changed its name from 42 ST-PA BUS TE to 42 ST-PORT AUTH midyear) had the largest drop in ridership."
   ]
  },
  {
   "cell_type": "code",
   "execution_count": 22,
   "metadata": {
    "collapsed": false
   },
   "outputs": [
    {
     "data": {
      "text/html": [
       "<div>\n",
       "<table border=\"1\" class=\"dataframe\">\n",
       "  <thead>\n",
       "    <tr style=\"text-align: right;\">\n",
       "      <th></th>\n",
       "      <th>ENTRIES_delta_t0</th>\n",
       "      <th>EXITS_delta_t0</th>\n",
       "      <th>ENTRIES_delta_t1</th>\n",
       "      <th>EXITS_delta_t1</th>\n",
       "      <th>YoY</th>\n",
       "    </tr>\n",
       "    <tr>\n",
       "      <th>Station</th>\n",
       "      <th></th>\n",
       "      <th></th>\n",
       "      <th></th>\n",
       "      <th></th>\n",
       "      <th></th>\n",
       "    </tr>\n",
       "  </thead>\n",
       "  <tbody>\n",
       "    <tr>\n",
       "      <th>BOYD-88 ST</th>\n",
       "      <td>10407</td>\n",
       "      <td>1645</td>\n",
       "      <td>76025</td>\n",
       "      <td>25816</td>\n",
       "      <td>89789</td>\n",
       "    </tr>\n",
       "    <tr>\n",
       "      <th>SARATOGA AVE</th>\n",
       "      <td>132489</td>\n",
       "      <td>53927</td>\n",
       "      <td>201410</td>\n",
       "      <td>84654</td>\n",
       "      <td>99648</td>\n",
       "    </tr>\n",
       "    <tr>\n",
       "      <th>FULTON ST</th>\n",
       "      <td>1134795</td>\n",
       "      <td>970892</td>\n",
       "      <td>1267925</td>\n",
       "      <td>1018455</td>\n",
       "      <td>180693</td>\n",
       "    </tr>\n",
       "    <tr>\n",
       "      <th>PATH WTC 2</th>\n",
       "      <td>9950</td>\n",
       "      <td>26927</td>\n",
       "      <td>15662</td>\n",
       "      <td>204521</td>\n",
       "      <td>183306</td>\n",
       "    </tr>\n",
       "    <tr>\n",
       "      <th>MAIN ST</th>\n",
       "      <td>1238318</td>\n",
       "      <td>1067246</td>\n",
       "      <td>1393136</td>\n",
       "      <td>1151015</td>\n",
       "      <td>238587</td>\n",
       "    </tr>\n",
       "  </tbody>\n",
       "</table>\n",
       "</div>"
      ],
      "text/plain": [
       "              ENTRIES_delta_t0  EXITS_delta_t0  ENTRIES_delta_t1  \\\n",
       "Station                                                            \n",
       "BOYD-88 ST               10407            1645             76025   \n",
       "SARATOGA AVE            132489           53927            201410   \n",
       "FULTON ST              1134795          970892           1267925   \n",
       "PATH WTC 2                9950           26927             15662   \n",
       "MAIN ST                1238318         1067246           1393136   \n",
       "\n",
       "              EXITS_delta_t1     YoY  \n",
       "Station                               \n",
       "BOYD-88 ST             25816   89789  \n",
       "SARATOGA AVE           84654   99648  \n",
       "FULTON ST            1018455  180693  \n",
       "PATH WTC 2            204521  183306  \n",
       "MAIN ST              1151015  238587  "
      ]
     },
     "execution_count": 22,
     "metadata": {},
     "output_type": "execute_result"
    }
   ],
   "source": [
    "station_rollup.sort_values('YoY').tail()"
   ]
  },
  {
   "cell_type": "markdown",
   "metadata": {},
   "source": [
    "While Main St (which changed its name from MAIN ST to FLUSHING-MAIN) had the largest gain."
   ]
  },
  {
   "cell_type": "markdown",
   "metadata": {},
   "source": [
    "# Capacity"
   ]
  },
  {
   "cell_type": "markdown",
   "metadata": {},
   "source": [
    "What dates are the least busy? Could you identify days on which stations were not operating at full capacity or closed entirely?"
   ]
  },
  {
   "cell_type": "code",
   "execution_count": null,
   "metadata": {
    "collapsed": false
   },
   "outputs": [],
   "source": [
    "data = get_mta_df_by_date_range(datetime.datetime(2015,1,3),10)\n",
    "data_deltas = calc_deltas(data)\n",
    "data_agg = data_deltas.groupby('DATE')[['ENTRIES_delta','EXITS_delta']].sum()\n",
    "data_agg['TOTAL_delta'] = data_agg.ENTRIES_delta + data_agg.EXITS_delta\n",
    "data_agg.sort_values('TOTAL_delta').head()"
   ]
  },
  {
   "cell_type": "markdown",
   "metadata": {},
   "source": [
    "In general Sundays tend to be least busy. That said, over the first ten weeks of 2015, the lowest volume day was 01/27/2015 corresponding with a winter storm."
   ]
  },
  {
   "cell_type": "code",
   "execution_count": 188,
   "metadata": {
    "collapsed": false
   },
   "outputs": [
    {
     "ename": "KeyError",
     "evalue": "'UNIT'",
     "output_type": "error",
     "traceback": [
      "\u001b[0;31m---------------------------------------------------------------------------\u001b[0m",
      "\u001b[0;31mKeyError\u001b[0m                                  Traceback (most recent call last)",
      "\u001b[0;32m<ipython-input-188-48b1a567272a>\u001b[0m in \u001b[0;36m<module>\u001b[0;34m()\u001b[0m\n\u001b[0;32m----> 1\u001b[0;31m \u001b[0mstation_rollup\u001b[0m \u001b[0;34m=\u001b[0m \u001b[0magg_by_station_date\u001b[0m\u001b[0;34m(\u001b[0m\u001b[0mdata_deltas\u001b[0m\u001b[0;34m,\u001b[0m\u001b[0;34m[\u001b[0m\u001b[0;34m'ENTRIES_delta'\u001b[0m\u001b[0;34m,\u001b[0m\u001b[0;34m'EXITS_delta'\u001b[0m\u001b[0;34m]\u001b[0m\u001b[0;34m)\u001b[0m\u001b[0;34m\u001b[0m\u001b[0m\n\u001b[0m\u001b[1;32m      2\u001b[0m station_capacity = station_rollup.reset_index(level=1,drop=True).groupby(level=0).agg({'ENTRIES_delta':max,\n\u001b[1;32m      3\u001b[0m                                                                                        'EXITS_delta':max})\n\u001b[1;32m      4\u001b[0m \u001b[0mstation_utilization\u001b[0m \u001b[0;34m=\u001b[0m \u001b[0mstation_rollup\u001b[0m\u001b[0;34m.\u001b[0m\u001b[0mdiv\u001b[0m\u001b[0;34m(\u001b[0m\u001b[0mstation_capacity\u001b[0m\u001b[0;34m)\u001b[0m\u001b[0;34m\u001b[0m\u001b[0m\n",
      "\u001b[0;32m<ipython-input-2-a584698fd777>\u001b[0m in \u001b[0;36magg_by_station_date\u001b[0;34m(target_df, stat_array)\u001b[0m\n\u001b[1;32m     54\u001b[0m \u001b[0;34m\u001b[0m\u001b[0m\n\u001b[1;32m     55\u001b[0m \u001b[0;32mdef\u001b[0m \u001b[0magg_by_station_date\u001b[0m\u001b[0;34m(\u001b[0m\u001b[0mtarget_df\u001b[0m\u001b[0;34m,\u001b[0m \u001b[0mstat_array\u001b[0m\u001b[0;34m)\u001b[0m\u001b[0;34m:\u001b[0m\u001b[0;34m\u001b[0m\u001b[0m\n\u001b[0;32m---> 56\u001b[0;31m     \u001b[0mmerged_df\u001b[0m \u001b[0;34m=\u001b[0m \u001b[0mmerge_station\u001b[0m\u001b[0;34m(\u001b[0m\u001b[0mtarget_df\u001b[0m\u001b[0;34m)\u001b[0m\u001b[0;34m\u001b[0m\u001b[0m\n\u001b[0m\u001b[1;32m     57\u001b[0m     \u001b[0;32mreturn\u001b[0m \u001b[0mmerged_df\u001b[0m\u001b[0;34m.\u001b[0m\u001b[0mgroupby\u001b[0m\u001b[0;34m(\u001b[0m\u001b[0;34m[\u001b[0m\u001b[0;34m'Station'\u001b[0m\u001b[0;34m,\u001b[0m\u001b[0;34m'DATE'\u001b[0m\u001b[0;34m]\u001b[0m\u001b[0;34m)\u001b[0m\u001b[0;34m[\u001b[0m\u001b[0mstat_array\u001b[0m\u001b[0;34m]\u001b[0m\u001b[0;34m.\u001b[0m\u001b[0msum\u001b[0m\u001b[0;34m(\u001b[0m\u001b[0;34m)\u001b[0m\u001b[0;34m\u001b[0m\u001b[0m\n\u001b[1;32m     58\u001b[0m \u001b[0;34m\u001b[0m\u001b[0m\n",
      "\u001b[0;32m<ipython-input-2-a584698fd777>\u001b[0m in \u001b[0;36mmerge_station\u001b[0;34m(target_df)\u001b[0m\n\u001b[1;32m     58\u001b[0m \u001b[0;34m\u001b[0m\u001b[0m\n\u001b[1;32m     59\u001b[0m \u001b[0;32mdef\u001b[0m \u001b[0mmerge_station\u001b[0m\u001b[0;34m(\u001b[0m\u001b[0mtarget_df\u001b[0m\u001b[0;34m)\u001b[0m\u001b[0;34m:\u001b[0m\u001b[0;34m\u001b[0m\u001b[0m\n\u001b[0;32m---> 60\u001b[0;31m     \u001b[0;32mreturn\u001b[0m \u001b[0mmerge_station_strict\u001b[0m\u001b[0;34m(\u001b[0m\u001b[0mtarget_df\u001b[0m\u001b[0;34m)\u001b[0m\u001b[0;34m\u001b[0m\u001b[0m\n\u001b[0m\u001b[1;32m     61\u001b[0m \u001b[0;34m\u001b[0m\u001b[0m\n\u001b[1;32m     62\u001b[0m \u001b[0;32mdef\u001b[0m \u001b[0mget_yankee_schedule\u001b[0m\u001b[0;34m(\u001b[0m\u001b[0;34m)\u001b[0m\u001b[0;34m:\u001b[0m\u001b[0;34m\u001b[0m\u001b[0m\n",
      "\u001b[0;32m<ipython-input-2-a584698fd777>\u001b[0m in \u001b[0;36mmerge_station_strict\u001b[0;34m(target_df)\u001b[0m\n\u001b[1;32m     83\u001b[0m                                 \u001b[0mleft_on\u001b[0m\u001b[0;34m=\u001b[0m\u001b[0;34m[\u001b[0m\u001b[0;34m'UNIT'\u001b[0m\u001b[0;34m,\u001b[0m\u001b[0;34m'C/A'\u001b[0m\u001b[0;34m]\u001b[0m\u001b[0;34m,\u001b[0m\u001b[0;34m\u001b[0m\u001b[0m\n\u001b[1;32m     84\u001b[0m                                 \u001b[0mright_on\u001b[0m\u001b[0;34m=\u001b[0m\u001b[0;34m[\u001b[0m\u001b[0;34m'Remote'\u001b[0m\u001b[0;34m,\u001b[0m\u001b[0;34m'Booth'\u001b[0m\u001b[0;34m]\u001b[0m\u001b[0;34m,\u001b[0m\u001b[0;34m\u001b[0m\u001b[0m\n\u001b[0;32m---> 85\u001b[0;31m                                 how='left')\n\u001b[0m\u001b[1;32m     86\u001b[0m     \u001b[0;32mreturn\u001b[0m \u001b[0mmerged_df\u001b[0m\u001b[0;34m\u001b[0m\u001b[0m\n\u001b[1;32m     87\u001b[0m \u001b[0;34m\u001b[0m\u001b[0m\n",
      "\u001b[0;32m/usr/local/lib/python2.7/site-packages/pandas/core/frame.pyc\u001b[0m in \u001b[0;36mmerge\u001b[0;34m(self, right, how, on, left_on, right_on, left_index, right_index, sort, suffixes, copy, indicator)\u001b[0m\n\u001b[1;32m   4328\u001b[0m                      \u001b[0mleft_on\u001b[0m\u001b[0;34m=\u001b[0m\u001b[0mleft_on\u001b[0m\u001b[0;34m,\u001b[0m \u001b[0mright_on\u001b[0m\u001b[0;34m=\u001b[0m\u001b[0mright_on\u001b[0m\u001b[0;34m,\u001b[0m\u001b[0;34m\u001b[0m\u001b[0m\n\u001b[1;32m   4329\u001b[0m                      \u001b[0mleft_index\u001b[0m\u001b[0;34m=\u001b[0m\u001b[0mleft_index\u001b[0m\u001b[0;34m,\u001b[0m \u001b[0mright_index\u001b[0m\u001b[0;34m=\u001b[0m\u001b[0mright_index\u001b[0m\u001b[0;34m,\u001b[0m \u001b[0msort\u001b[0m\u001b[0;34m=\u001b[0m\u001b[0msort\u001b[0m\u001b[0;34m,\u001b[0m\u001b[0;34m\u001b[0m\u001b[0m\n\u001b[0;32m-> 4330\u001b[0;31m                      suffixes=suffixes, copy=copy, indicator=indicator)\n\u001b[0m\u001b[1;32m   4331\u001b[0m \u001b[0;34m\u001b[0m\u001b[0m\n\u001b[1;32m   4332\u001b[0m     \u001b[0;32mdef\u001b[0m \u001b[0mround\u001b[0m\u001b[0;34m(\u001b[0m\u001b[0mself\u001b[0m\u001b[0;34m,\u001b[0m \u001b[0mdecimals\u001b[0m\u001b[0;34m=\u001b[0m\u001b[0;36m0\u001b[0m\u001b[0;34m,\u001b[0m \u001b[0mout\u001b[0m\u001b[0;34m=\u001b[0m\u001b[0mNone\u001b[0m\u001b[0;34m)\u001b[0m\u001b[0;34m:\u001b[0m\u001b[0;34m\u001b[0m\u001b[0m\n",
      "\u001b[0;32m/usr/local/lib/python2.7/site-packages/pandas/tools/merge.pyc\u001b[0m in \u001b[0;36mmerge\u001b[0;34m(left, right, how, on, left_on, right_on, left_index, right_index, sort, suffixes, copy, indicator)\u001b[0m\n\u001b[1;32m     32\u001b[0m                          \u001b[0mright_on\u001b[0m\u001b[0;34m=\u001b[0m\u001b[0mright_on\u001b[0m\u001b[0;34m,\u001b[0m \u001b[0mleft_index\u001b[0m\u001b[0;34m=\u001b[0m\u001b[0mleft_index\u001b[0m\u001b[0;34m,\u001b[0m\u001b[0;34m\u001b[0m\u001b[0m\n\u001b[1;32m     33\u001b[0m                          \u001b[0mright_index\u001b[0m\u001b[0;34m=\u001b[0m\u001b[0mright_index\u001b[0m\u001b[0;34m,\u001b[0m \u001b[0msort\u001b[0m\u001b[0;34m=\u001b[0m\u001b[0msort\u001b[0m\u001b[0;34m,\u001b[0m \u001b[0msuffixes\u001b[0m\u001b[0;34m=\u001b[0m\u001b[0msuffixes\u001b[0m\u001b[0;34m,\u001b[0m\u001b[0;34m\u001b[0m\u001b[0m\n\u001b[0;32m---> 34\u001b[0;31m                          copy=copy, indicator=indicator)\n\u001b[0m\u001b[1;32m     35\u001b[0m     \u001b[0;32mreturn\u001b[0m \u001b[0mop\u001b[0m\u001b[0;34m.\u001b[0m\u001b[0mget_result\u001b[0m\u001b[0;34m(\u001b[0m\u001b[0;34m)\u001b[0m\u001b[0;34m\u001b[0m\u001b[0m\n\u001b[1;32m     36\u001b[0m \u001b[0;32mif\u001b[0m \u001b[0m__debug__\u001b[0m\u001b[0;34m:\u001b[0m\u001b[0;34m\u001b[0m\u001b[0m\n",
      "\u001b[0;32m/usr/local/lib/python2.7/site-packages/pandas/tools/merge.pyc\u001b[0m in \u001b[0;36m__init__\u001b[0;34m(self, left, right, how, on, left_on, right_on, axis, left_index, right_index, sort, suffixes, copy, indicator)\u001b[0m\n\u001b[1;32m    188\u001b[0m         (self.left_join_keys,\n\u001b[1;32m    189\u001b[0m          \u001b[0mself\u001b[0m\u001b[0;34m.\u001b[0m\u001b[0mright_join_keys\u001b[0m\u001b[0;34m,\u001b[0m\u001b[0;34m\u001b[0m\u001b[0m\n\u001b[0;32m--> 190\u001b[0;31m          self.join_names) = self._get_merge_keys()\n\u001b[0m\u001b[1;32m    191\u001b[0m \u001b[0;34m\u001b[0m\u001b[0m\n\u001b[1;32m    192\u001b[0m     \u001b[0;32mdef\u001b[0m \u001b[0mget_result\u001b[0m\u001b[0;34m(\u001b[0m\u001b[0mself\u001b[0m\u001b[0;34m)\u001b[0m\u001b[0;34m:\u001b[0m\u001b[0;34m\u001b[0m\u001b[0m\n",
      "\u001b[0;32m/usr/local/lib/python2.7/site-packages/pandas/tools/merge.pyc\u001b[0m in \u001b[0;36m_get_merge_keys\u001b[0;34m(self)\u001b[0m\n\u001b[1;32m    410\u001b[0m                     \u001b[0;32melse\u001b[0m\u001b[0;34m:\u001b[0m\u001b[0;34m\u001b[0m\u001b[0m\n\u001b[1;32m    411\u001b[0m                         \u001b[0mright_keys\u001b[0m\u001b[0;34m.\u001b[0m\u001b[0mappend\u001b[0m\u001b[0;34m(\u001b[0m\u001b[0mrk\u001b[0m\u001b[0;34m)\u001b[0m\u001b[0;34m\u001b[0m\u001b[0m\n\u001b[0;32m--> 412\u001b[0;31m                     \u001b[0mleft_keys\u001b[0m\u001b[0;34m.\u001b[0m\u001b[0mappend\u001b[0m\u001b[0;34m(\u001b[0m\u001b[0mleft\u001b[0m\u001b[0;34m[\u001b[0m\u001b[0mlk\u001b[0m\u001b[0;34m]\u001b[0m\u001b[0;34m.\u001b[0m\u001b[0m_values\u001b[0m\u001b[0;34m)\u001b[0m\u001b[0;34m\u001b[0m\u001b[0m\n\u001b[0m\u001b[1;32m    413\u001b[0m                     \u001b[0mjoin_names\u001b[0m\u001b[0;34m.\u001b[0m\u001b[0mappend\u001b[0m\u001b[0;34m(\u001b[0m\u001b[0mlk\u001b[0m\u001b[0;34m)\u001b[0m\u001b[0;34m\u001b[0m\u001b[0m\n\u001b[1;32m    414\u001b[0m         \u001b[0;32melif\u001b[0m \u001b[0m_any\u001b[0m\u001b[0;34m(\u001b[0m\u001b[0mself\u001b[0m\u001b[0;34m.\u001b[0m\u001b[0mleft_on\u001b[0m\u001b[0;34m)\u001b[0m\u001b[0;34m:\u001b[0m\u001b[0;34m\u001b[0m\u001b[0m\n",
      "\u001b[0;32m/usr/local/lib/python2.7/site-packages/pandas/core/frame.pyc\u001b[0m in \u001b[0;36m__getitem__\u001b[0;34m(self, key)\u001b[0m\n\u001b[1;32m   1967\u001b[0m             \u001b[0;32mreturn\u001b[0m \u001b[0mself\u001b[0m\u001b[0;34m.\u001b[0m\u001b[0m_getitem_multilevel\u001b[0m\u001b[0;34m(\u001b[0m\u001b[0mkey\u001b[0m\u001b[0;34m)\u001b[0m\u001b[0;34m\u001b[0m\u001b[0m\n\u001b[1;32m   1968\u001b[0m         \u001b[0;32melse\u001b[0m\u001b[0;34m:\u001b[0m\u001b[0;34m\u001b[0m\u001b[0m\n\u001b[0;32m-> 1969\u001b[0;31m             \u001b[0;32mreturn\u001b[0m \u001b[0mself\u001b[0m\u001b[0;34m.\u001b[0m\u001b[0m_getitem_column\u001b[0m\u001b[0;34m(\u001b[0m\u001b[0mkey\u001b[0m\u001b[0;34m)\u001b[0m\u001b[0;34m\u001b[0m\u001b[0m\n\u001b[0m\u001b[1;32m   1970\u001b[0m \u001b[0;34m\u001b[0m\u001b[0m\n\u001b[1;32m   1971\u001b[0m     \u001b[0;32mdef\u001b[0m \u001b[0m_getitem_column\u001b[0m\u001b[0;34m(\u001b[0m\u001b[0mself\u001b[0m\u001b[0;34m,\u001b[0m \u001b[0mkey\u001b[0m\u001b[0;34m)\u001b[0m\u001b[0;34m:\u001b[0m\u001b[0;34m\u001b[0m\u001b[0m\n",
      "\u001b[0;32m/usr/local/lib/python2.7/site-packages/pandas/core/frame.pyc\u001b[0m in \u001b[0;36m_getitem_column\u001b[0;34m(self, key)\u001b[0m\n\u001b[1;32m   1974\u001b[0m         \u001b[0;31m# get column\u001b[0m\u001b[0;34m\u001b[0m\u001b[0;34m\u001b[0m\u001b[0m\n\u001b[1;32m   1975\u001b[0m         \u001b[0;32mif\u001b[0m \u001b[0mself\u001b[0m\u001b[0;34m.\u001b[0m\u001b[0mcolumns\u001b[0m\u001b[0;34m.\u001b[0m\u001b[0mis_unique\u001b[0m\u001b[0;34m:\u001b[0m\u001b[0;34m\u001b[0m\u001b[0m\n\u001b[0;32m-> 1976\u001b[0;31m             \u001b[0;32mreturn\u001b[0m \u001b[0mself\u001b[0m\u001b[0;34m.\u001b[0m\u001b[0m_get_item_cache\u001b[0m\u001b[0;34m(\u001b[0m\u001b[0mkey\u001b[0m\u001b[0;34m)\u001b[0m\u001b[0;34m\u001b[0m\u001b[0m\n\u001b[0m\u001b[1;32m   1977\u001b[0m \u001b[0;34m\u001b[0m\u001b[0m\n\u001b[1;32m   1978\u001b[0m         \u001b[0;31m# duplicate columns & possible reduce dimensionality\u001b[0m\u001b[0;34m\u001b[0m\u001b[0;34m\u001b[0m\u001b[0m\n",
      "\u001b[0;32m/usr/local/lib/python2.7/site-packages/pandas/core/generic.pyc\u001b[0m in \u001b[0;36m_get_item_cache\u001b[0;34m(self, item)\u001b[0m\n\u001b[1;32m   1089\u001b[0m         \u001b[0mres\u001b[0m \u001b[0;34m=\u001b[0m \u001b[0mcache\u001b[0m\u001b[0;34m.\u001b[0m\u001b[0mget\u001b[0m\u001b[0;34m(\u001b[0m\u001b[0mitem\u001b[0m\u001b[0;34m)\u001b[0m\u001b[0;34m\u001b[0m\u001b[0m\n\u001b[1;32m   1090\u001b[0m         \u001b[0;32mif\u001b[0m \u001b[0mres\u001b[0m \u001b[0;32mis\u001b[0m \u001b[0mNone\u001b[0m\u001b[0;34m:\u001b[0m\u001b[0;34m\u001b[0m\u001b[0m\n\u001b[0;32m-> 1091\u001b[0;31m             \u001b[0mvalues\u001b[0m \u001b[0;34m=\u001b[0m \u001b[0mself\u001b[0m\u001b[0;34m.\u001b[0m\u001b[0m_data\u001b[0m\u001b[0;34m.\u001b[0m\u001b[0mget\u001b[0m\u001b[0;34m(\u001b[0m\u001b[0mitem\u001b[0m\u001b[0;34m)\u001b[0m\u001b[0;34m\u001b[0m\u001b[0m\n\u001b[0m\u001b[1;32m   1092\u001b[0m             \u001b[0mres\u001b[0m \u001b[0;34m=\u001b[0m \u001b[0mself\u001b[0m\u001b[0;34m.\u001b[0m\u001b[0m_box_item_values\u001b[0m\u001b[0;34m(\u001b[0m\u001b[0mitem\u001b[0m\u001b[0;34m,\u001b[0m \u001b[0mvalues\u001b[0m\u001b[0;34m)\u001b[0m\u001b[0;34m\u001b[0m\u001b[0m\n\u001b[1;32m   1093\u001b[0m             \u001b[0mcache\u001b[0m\u001b[0;34m[\u001b[0m\u001b[0mitem\u001b[0m\u001b[0;34m]\u001b[0m \u001b[0;34m=\u001b[0m \u001b[0mres\u001b[0m\u001b[0;34m\u001b[0m\u001b[0m\n",
      "\u001b[0;32m/usr/local/lib/python2.7/site-packages/pandas/core/internals.pyc\u001b[0m in \u001b[0;36mget\u001b[0;34m(self, item, fastpath)\u001b[0m\n\u001b[1;32m   3209\u001b[0m \u001b[0;34m\u001b[0m\u001b[0m\n\u001b[1;32m   3210\u001b[0m             \u001b[0;32mif\u001b[0m \u001b[0;32mnot\u001b[0m \u001b[0misnull\u001b[0m\u001b[0;34m(\u001b[0m\u001b[0mitem\u001b[0m\u001b[0;34m)\u001b[0m\u001b[0;34m:\u001b[0m\u001b[0;34m\u001b[0m\u001b[0m\n\u001b[0;32m-> 3211\u001b[0;31m                 \u001b[0mloc\u001b[0m \u001b[0;34m=\u001b[0m \u001b[0mself\u001b[0m\u001b[0;34m.\u001b[0m\u001b[0mitems\u001b[0m\u001b[0;34m.\u001b[0m\u001b[0mget_loc\u001b[0m\u001b[0;34m(\u001b[0m\u001b[0mitem\u001b[0m\u001b[0;34m)\u001b[0m\u001b[0;34m\u001b[0m\u001b[0m\n\u001b[0m\u001b[1;32m   3212\u001b[0m             \u001b[0;32melse\u001b[0m\u001b[0;34m:\u001b[0m\u001b[0;34m\u001b[0m\u001b[0m\n\u001b[1;32m   3213\u001b[0m                 \u001b[0mindexer\u001b[0m \u001b[0;34m=\u001b[0m \u001b[0mnp\u001b[0m\u001b[0;34m.\u001b[0m\u001b[0marange\u001b[0m\u001b[0;34m(\u001b[0m\u001b[0mlen\u001b[0m\u001b[0;34m(\u001b[0m\u001b[0mself\u001b[0m\u001b[0;34m.\u001b[0m\u001b[0mitems\u001b[0m\u001b[0;34m)\u001b[0m\u001b[0;34m)\u001b[0m\u001b[0;34m[\u001b[0m\u001b[0misnull\u001b[0m\u001b[0;34m(\u001b[0m\u001b[0mself\u001b[0m\u001b[0;34m.\u001b[0m\u001b[0mitems\u001b[0m\u001b[0;34m)\u001b[0m\u001b[0;34m]\u001b[0m\u001b[0;34m\u001b[0m\u001b[0m\n",
      "\u001b[0;32m/usr/local/lib/python2.7/site-packages/pandas/core/index.pyc\u001b[0m in \u001b[0;36mget_loc\u001b[0;34m(self, key, method, tolerance)\u001b[0m\n\u001b[1;32m   1757\u001b[0m                                  'backfill or nearest lookups')\n\u001b[1;32m   1758\u001b[0m             \u001b[0mkey\u001b[0m \u001b[0;34m=\u001b[0m \u001b[0m_values_from_object\u001b[0m\u001b[0;34m(\u001b[0m\u001b[0mkey\u001b[0m\u001b[0;34m)\u001b[0m\u001b[0;34m\u001b[0m\u001b[0m\n\u001b[0;32m-> 1759\u001b[0;31m             \u001b[0;32mreturn\u001b[0m \u001b[0mself\u001b[0m\u001b[0;34m.\u001b[0m\u001b[0m_engine\u001b[0m\u001b[0;34m.\u001b[0m\u001b[0mget_loc\u001b[0m\u001b[0;34m(\u001b[0m\u001b[0mkey\u001b[0m\u001b[0;34m)\u001b[0m\u001b[0;34m\u001b[0m\u001b[0m\n\u001b[0m\u001b[1;32m   1760\u001b[0m \u001b[0;34m\u001b[0m\u001b[0m\n\u001b[1;32m   1761\u001b[0m         indexer = self.get_indexer([key], method=method,\n",
      "\u001b[0;32mpandas/index.pyx\u001b[0m in \u001b[0;36mpandas.index.IndexEngine.get_loc (pandas/index.c:3979)\u001b[0;34m()\u001b[0m\n",
      "\u001b[0;32mpandas/index.pyx\u001b[0m in \u001b[0;36mpandas.index.IndexEngine.get_loc (pandas/index.c:3843)\u001b[0;34m()\u001b[0m\n",
      "\u001b[0;32mpandas/hashtable.pyx\u001b[0m in \u001b[0;36mpandas.hashtable.PyObjectHashTable.get_item (pandas/hashtable.c:12265)\u001b[0;34m()\u001b[0m\n",
      "\u001b[0;32mpandas/hashtable.pyx\u001b[0m in \u001b[0;36mpandas.hashtable.PyObjectHashTable.get_item (pandas/hashtable.c:12216)\u001b[0;34m()\u001b[0m\n",
      "\u001b[0;31mKeyError\u001b[0m: 'UNIT'"
     ]
    }
   ],
   "source": [
    "station_rollup = agg_by_station_date(data_deltas,['ENTRIES_delta','EXITS_delta'])\n",
    "station_capacity = station_rollup.reset_index(level=1,drop=True).groupby(level=0).agg({'ENTRIES_delta':max,\n",
    "                                                                                       'EXITS_delta':max})\n",
    "station_utilization = station_rollup.div(station_capacity)"
   ]
  },
  {
   "cell_type": "code",
   "execution_count": 187,
   "metadata": {
    "collapsed": false
   },
   "outputs": [
    {
     "data": {
      "text/html": [
       "<div>\n",
       "<table border=\"1\" class=\"dataframe\">\n",
       "  <thead>\n",
       "    <tr style=\"text-align: right;\">\n",
       "      <th></th>\n",
       "      <th></th>\n",
       "      <th>ENTRIES_delta</th>\n",
       "      <th>EXITS_delta</th>\n",
       "    </tr>\n",
       "    <tr>\n",
       "      <th>Station</th>\n",
       "      <th>DATE</th>\n",
       "      <th></th>\n",
       "      <th></th>\n",
       "    </tr>\n",
       "  </thead>\n",
       "  <tbody>\n",
       "    <tr>\n",
       "      <th rowspan=\"2\" valign=\"top\">1 AVE</th>\n",
       "      <th>01/04/2015</th>\n",
       "      <td>0.526088</td>\n",
       "      <td>0.497924</td>\n",
       "    </tr>\n",
       "    <tr>\n",
       "      <th>12/28/2014</th>\n",
       "      <td>0.472405</td>\n",
       "      <td>0.465515</td>\n",
       "    </tr>\n",
       "    <tr>\n",
       "      <th>103 ST</th>\n",
       "      <th>01/04/2015</th>\n",
       "      <td>0.482111</td>\n",
       "      <td>0.481831</td>\n",
       "    </tr>\n",
       "    <tr>\n",
       "      <th>103 ST-CORONA</th>\n",
       "      <th>01/01/2015</th>\n",
       "      <td>0.420748</td>\n",
       "      <td>0.492318</td>\n",
       "    </tr>\n",
       "    <tr>\n",
       "      <th rowspan=\"3\" valign=\"top\">104 ST</th>\n",
       "      <th>01/01/2015</th>\n",
       "      <td>0.358862</td>\n",
       "      <td>0.399613</td>\n",
       "    </tr>\n",
       "    <tr>\n",
       "      <th>01/04/2015</th>\n",
       "      <td>0.435449</td>\n",
       "      <td>0.491285</td>\n",
       "    </tr>\n",
       "    <tr>\n",
       "      <th>12/28/2014</th>\n",
       "      <td>0.455580</td>\n",
       "      <td>0.500323</td>\n",
       "    </tr>\n",
       "    <tr>\n",
       "      <th rowspan=\"3\" valign=\"top\">110 ST</th>\n",
       "      <th>01/01/2015</th>\n",
       "      <td>0.442475</td>\n",
       "      <td>0.504288</td>\n",
       "    </tr>\n",
       "    <tr>\n",
       "      <th>01/04/2015</th>\n",
       "      <td>0.450290</td>\n",
       "      <td>0.507920</td>\n",
       "    </tr>\n",
       "    <tr>\n",
       "      <th>12/28/2014</th>\n",
       "      <td>0.488076</td>\n",
       "      <td>0.548885</td>\n",
       "    </tr>\n",
       "    <tr>\n",
       "      <th>111 ST</th>\n",
       "      <th>01/01/2015</th>\n",
       "      <td>0.469419</td>\n",
       "      <td>0.572319</td>\n",
       "    </tr>\n",
       "    <tr>\n",
       "      <th rowspan=\"5\" valign=\"top\">116 ST-COLUMBIA</th>\n",
       "      <th>01/01/2015</th>\n",
       "      <td>0.374022</td>\n",
       "      <td>0.368291</td>\n",
       "    </tr>\n",
       "    <tr>\n",
       "      <th>01/03/2015</th>\n",
       "      <td>0.377548</td>\n",
       "      <td>0.387535</td>\n",
       "    </tr>\n",
       "    <tr>\n",
       "      <th>01/04/2015</th>\n",
       "      <td>0.339097</td>\n",
       "      <td>0.373234</td>\n",
       "    </tr>\n",
       "    <tr>\n",
       "      <th>12/27/2014</th>\n",
       "      <td>0.393978</td>\n",
       "      <td>0.397775</td>\n",
       "    </tr>\n",
       "    <tr>\n",
       "      <th>12/28/2014</th>\n",
       "      <td>0.371785</td>\n",
       "      <td>0.398482</td>\n",
       "    </tr>\n",
       "    <tr>\n",
       "      <th rowspan=\"3\" valign=\"top\">121 ST</th>\n",
       "      <th>01/01/2015</th>\n",
       "      <td>0.377470</td>\n",
       "      <td>0.425218</td>\n",
       "    </tr>\n",
       "    <tr>\n",
       "      <th>01/04/2015</th>\n",
       "      <td>0.511559</td>\n",
       "      <td>0.472837</td>\n",
       "    </tr>\n",
       "    <tr>\n",
       "      <th>12/28/2014</th>\n",
       "      <td>0.525851</td>\n",
       "      <td>0.496311</td>\n",
       "    </tr>\n",
       "    <tr>\n",
       "      <th>125 ST</th>\n",
       "      <th>01/01/2015</th>\n",
       "      <td>0.472745</td>\n",
       "      <td>0.503920</td>\n",
       "    </tr>\n",
       "    <tr>\n",
       "      <th rowspan=\"3\" valign=\"top\">135 ST</th>\n",
       "      <th>01/01/2015</th>\n",
       "      <td>0.450076</td>\n",
       "      <td>0.452701</td>\n",
       "    </tr>\n",
       "    <tr>\n",
       "      <th>01/04/2015</th>\n",
       "      <td>0.493153</td>\n",
       "      <td>0.479821</td>\n",
       "    </tr>\n",
       "    <tr>\n",
       "      <th>12/28/2014</th>\n",
       "      <td>0.504422</td>\n",
       "      <td>0.496690</td>\n",
       "    </tr>\n",
       "    <tr>\n",
       "      <th>137 ST-CITY COL</th>\n",
       "      <th>01/01/2015</th>\n",
       "      <td>0.490945</td>\n",
       "      <td>0.573509</td>\n",
       "    </tr>\n",
       "    <tr>\n",
       "      <th rowspan=\"3\" valign=\"top\">138 ST-3 AVE</th>\n",
       "      <th>01/01/2015</th>\n",
       "      <td>0.441778</td>\n",
       "      <td>0.534034</td>\n",
       "    </tr>\n",
       "    <tr>\n",
       "      <th>01/04/2015</th>\n",
       "      <td>0.673655</td>\n",
       "      <td>0.466519</td>\n",
       "    </tr>\n",
       "    <tr>\n",
       "      <th>12/28/2014</th>\n",
       "      <td>0.481308</td>\n",
       "      <td>0.581627</td>\n",
       "    </tr>\n",
       "    <tr>\n",
       "      <th rowspan=\"3\" valign=\"top\">138 ST-GR CONC</th>\n",
       "      <th>01/01/2015</th>\n",
       "      <td>0.268225</td>\n",
       "      <td>0.321133</td>\n",
       "    </tr>\n",
       "    <tr>\n",
       "      <th>01/04/2015</th>\n",
       "      <td>0.448525</td>\n",
       "      <td>0.578931</td>\n",
       "    </tr>\n",
       "    <tr>\n",
       "      <th>12/27/2014</th>\n",
       "      <td>0.462159</td>\n",
       "      <td>0.496499</td>\n",
       "    </tr>\n",
       "    <tr>\n",
       "      <th>...</th>\n",
       "      <th>...</th>\n",
       "      <td>...</td>\n",
       "      <td>...</td>\n",
       "    </tr>\n",
       "    <tr>\n",
       "      <th rowspan=\"3\" valign=\"top\">WESTCHESTER SQ</th>\n",
       "      <th>01/04/2015</th>\n",
       "      <td>0.293475</td>\n",
       "      <td>0.354642</td>\n",
       "    </tr>\n",
       "    <tr>\n",
       "      <th>12/27/2014</th>\n",
       "      <td>0.404958</td>\n",
       "      <td>0.548765</td>\n",
       "    </tr>\n",
       "    <tr>\n",
       "      <th>12/28/2014</th>\n",
       "      <td>0.316851</td>\n",
       "      <td>0.420600</td>\n",
       "    </tr>\n",
       "    <tr>\n",
       "      <th rowspan=\"3\" valign=\"top\">WHITEHALL ST</th>\n",
       "      <th>01/01/2015</th>\n",
       "      <td>0.423229</td>\n",
       "      <td>0.407997</td>\n",
       "    </tr>\n",
       "    <tr>\n",
       "      <th>01/03/2015</th>\n",
       "      <td>0.351258</td>\n",
       "      <td>0.287802</td>\n",
       "    </tr>\n",
       "    <tr>\n",
       "      <th>01/04/2015</th>\n",
       "      <td>0.226517</td>\n",
       "      <td>0.194166</td>\n",
       "    </tr>\n",
       "    <tr>\n",
       "      <th rowspan=\"5\" valign=\"top\">WHITLOCK AVE</th>\n",
       "      <th>01/01/2015</th>\n",
       "      <td>0.403643</td>\n",
       "      <td>0.492967</td>\n",
       "    </tr>\n",
       "    <tr>\n",
       "      <th>01/03/2015</th>\n",
       "      <td>0.483549</td>\n",
       "      <td>0.464834</td>\n",
       "    </tr>\n",
       "    <tr>\n",
       "      <th>01/04/2015</th>\n",
       "      <td>0.378966</td>\n",
       "      <td>0.397059</td>\n",
       "    </tr>\n",
       "    <tr>\n",
       "      <th>01/09/2015</th>\n",
       "      <td>0.484724</td>\n",
       "      <td>0.273657</td>\n",
       "    </tr>\n",
       "    <tr>\n",
       "      <th>12/28/2014</th>\n",
       "      <td>0.488837</td>\n",
       "      <td>0.599105</td>\n",
       "    </tr>\n",
       "    <tr>\n",
       "      <th>WILSON AVE</th>\n",
       "      <th>12/28/2014</th>\n",
       "      <td>0.486711</td>\n",
       "      <td>0.531940</td>\n",
       "    </tr>\n",
       "    <tr>\n",
       "      <th rowspan=\"5\" valign=\"top\">WINTHROP ST</th>\n",
       "      <th>01/01/2015</th>\n",
       "      <td>0.306623</td>\n",
       "      <td>0.377867</td>\n",
       "    </tr>\n",
       "    <tr>\n",
       "      <th>01/03/2015</th>\n",
       "      <td>0.403247</td>\n",
       "      <td>0.431766</td>\n",
       "    </tr>\n",
       "    <tr>\n",
       "      <th>01/04/2015</th>\n",
       "      <td>0.326883</td>\n",
       "      <td>0.326835</td>\n",
       "    </tr>\n",
       "    <tr>\n",
       "      <th>12/27/2014</th>\n",
       "      <td>0.404935</td>\n",
       "      <td>0.466743</td>\n",
       "    </tr>\n",
       "    <tr>\n",
       "      <th>12/28/2014</th>\n",
       "      <td>0.300909</td>\n",
       "      <td>0.322821</td>\n",
       "    </tr>\n",
       "    <tr>\n",
       "      <th rowspan=\"2\" valign=\"top\">WOODHAVEN BLVD</th>\n",
       "      <th>01/01/2015</th>\n",
       "      <td>0.420937</td>\n",
       "      <td>0.480645</td>\n",
       "    </tr>\n",
       "    <tr>\n",
       "      <th>01/04/2015</th>\n",
       "      <td>0.481710</td>\n",
       "      <td>0.563456</td>\n",
       "    </tr>\n",
       "    <tr>\n",
       "      <th rowspan=\"3\" valign=\"top\">WOODLAWN ROAD</th>\n",
       "      <th>01/01/2015</th>\n",
       "      <td>0.364275</td>\n",
       "      <td>0.571814</td>\n",
       "    </tr>\n",
       "    <tr>\n",
       "      <th>01/04/2015</th>\n",
       "      <td>0.399814</td>\n",
       "      <td>0.516365</td>\n",
       "    </tr>\n",
       "    <tr>\n",
       "      <th>12/28/2014</th>\n",
       "      <td>0.448747</td>\n",
       "      <td>0.644590</td>\n",
       "    </tr>\n",
       "    <tr>\n",
       "      <th rowspan=\"4\" valign=\"top\">WORLD TRADE CTR</th>\n",
       "      <th>01/01/2015</th>\n",
       "      <td>0.424147</td>\n",
       "      <td>0.481388</td>\n",
       "    </tr>\n",
       "    <tr>\n",
       "      <th>01/03/2015</th>\n",
       "      <td>0.370236</td>\n",
       "      <td>0.390784</td>\n",
       "    </tr>\n",
       "    <tr>\n",
       "      <th>01/04/2015</th>\n",
       "      <td>0.224423</td>\n",
       "      <td>0.232675</td>\n",
       "    </tr>\n",
       "    <tr>\n",
       "      <th>12/28/2014</th>\n",
       "      <td>0.459127</td>\n",
       "      <td>0.474087</td>\n",
       "    </tr>\n",
       "    <tr>\n",
       "      <th rowspan=\"4\" valign=\"top\">YORK ST</th>\n",
       "      <th>01/01/2015</th>\n",
       "      <td>0.483254</td>\n",
       "      <td>0.455726</td>\n",
       "    </tr>\n",
       "    <tr>\n",
       "      <th>01/03/2015</th>\n",
       "      <td>0.411711</td>\n",
       "      <td>0.467104</td>\n",
       "    </tr>\n",
       "    <tr>\n",
       "      <th>01/04/2015</th>\n",
       "      <td>0.356345</td>\n",
       "      <td>0.402626</td>\n",
       "    </tr>\n",
       "    <tr>\n",
       "      <th>12/28/2014</th>\n",
       "      <td>0.368193</td>\n",
       "      <td>0.424799</td>\n",
       "    </tr>\n",
       "  </tbody>\n",
       "</table>\n",
       "<p>1269 rows × 2 columns</p>\n",
       "</div>"
      ],
      "text/plain": [
       "                            ENTRIES_delta  EXITS_delta\n",
       "Station         DATE                                  \n",
       "1 AVE           01/04/2015       0.526088     0.497924\n",
       "                12/28/2014       0.472405     0.465515\n",
       "103 ST          01/04/2015       0.482111     0.481831\n",
       "103 ST-CORONA   01/01/2015       0.420748     0.492318\n",
       "104 ST          01/01/2015       0.358862     0.399613\n",
       "                01/04/2015       0.435449     0.491285\n",
       "                12/28/2014       0.455580     0.500323\n",
       "110 ST          01/01/2015       0.442475     0.504288\n",
       "                01/04/2015       0.450290     0.507920\n",
       "                12/28/2014       0.488076     0.548885\n",
       "111 ST          01/01/2015       0.469419     0.572319\n",
       "116 ST-COLUMBIA 01/01/2015       0.374022     0.368291\n",
       "                01/03/2015       0.377548     0.387535\n",
       "                01/04/2015       0.339097     0.373234\n",
       "                12/27/2014       0.393978     0.397775\n",
       "                12/28/2014       0.371785     0.398482\n",
       "121 ST          01/01/2015       0.377470     0.425218\n",
       "                01/04/2015       0.511559     0.472837\n",
       "                12/28/2014       0.525851     0.496311\n",
       "125 ST          01/01/2015       0.472745     0.503920\n",
       "135 ST          01/01/2015       0.450076     0.452701\n",
       "                01/04/2015       0.493153     0.479821\n",
       "                12/28/2014       0.504422     0.496690\n",
       "137 ST-CITY COL 01/01/2015       0.490945     0.573509\n",
       "138 ST-3 AVE    01/01/2015       0.441778     0.534034\n",
       "                01/04/2015       0.673655     0.466519\n",
       "                12/28/2014       0.481308     0.581627\n",
       "138 ST-GR CONC  01/01/2015       0.268225     0.321133\n",
       "                01/04/2015       0.448525     0.578931\n",
       "                12/27/2014       0.462159     0.496499\n",
       "...                                   ...          ...\n",
       "WESTCHESTER SQ  01/04/2015       0.293475     0.354642\n",
       "                12/27/2014       0.404958     0.548765\n",
       "                12/28/2014       0.316851     0.420600\n",
       "WHITEHALL ST    01/01/2015       0.423229     0.407997\n",
       "                01/03/2015       0.351258     0.287802\n",
       "                01/04/2015       0.226517     0.194166\n",
       "WHITLOCK AVE    01/01/2015       0.403643     0.492967\n",
       "                01/03/2015       0.483549     0.464834\n",
       "                01/04/2015       0.378966     0.397059\n",
       "                01/09/2015       0.484724     0.273657\n",
       "                12/28/2014       0.488837     0.599105\n",
       "WILSON AVE      12/28/2014       0.486711     0.531940\n",
       "WINTHROP ST     01/01/2015       0.306623     0.377867\n",
       "                01/03/2015       0.403247     0.431766\n",
       "                01/04/2015       0.326883     0.326835\n",
       "                12/27/2014       0.404935     0.466743\n",
       "                12/28/2014       0.300909     0.322821\n",
       "WOODHAVEN BLVD  01/01/2015       0.420937     0.480645\n",
       "                01/04/2015       0.481710     0.563456\n",
       "WOODLAWN ROAD   01/01/2015       0.364275     0.571814\n",
       "                01/04/2015       0.399814     0.516365\n",
       "                12/28/2014       0.448747     0.644590\n",
       "WORLD TRADE CTR 01/01/2015       0.424147     0.481388\n",
       "                01/03/2015       0.370236     0.390784\n",
       "                01/04/2015       0.224423     0.232675\n",
       "                12/28/2014       0.459127     0.474087\n",
       "YORK ST         01/01/2015       0.483254     0.455726\n",
       "                01/03/2015       0.411711     0.467104\n",
       "                01/04/2015       0.356345     0.402626\n",
       "                12/28/2014       0.368193     0.424799\n",
       "\n",
       "[1269 rows x 2 columns]"
      ]
     },
     "execution_count": 187,
     "metadata": {},
     "output_type": "execute_result"
    }
   ],
   "source": [
    "station_utilization[(station_utilization.ENTRIES_delta<0.5)|\n",
    "                    (station_utilization.EXITS_delta<0.5)]"
   ]
  },
  {
   "cell_type": "code",
   "execution_count": null,
   "metadata": {
    "collapsed": false
   },
   "outputs": [],
   "source": []
  },
  {
   "cell_type": "code",
   "execution_count": null,
   "metadata": {
    "collapsed": true
   },
   "outputs": [],
   "source": [
    "# Day of week, Day of month, month, Line, Division, Station, unit, Yankees"
   ]
  },
  {
   "cell_type": "code",
   "execution_count": null,
   "metadata": {
    "collapsed": false
   },
   "outputs": [],
   "source": [
    "yankee_schedule = get_yankee_schedule()\n",
    "\n",
    "data = get_mta_df_by_date_range(datetime.datetime(2013,8,17),4)"
   ]
  },
  {
   "cell_type": "code",
   "execution_count": null,
   "metadata": {
    "collapsed": false
   },
   "outputs": [],
   "source": [
    "data_deltas = calc_deltas(data)\n",
    "data_deltas = data_deltas[(data_deltas.UNIT=='R195')&\n",
    "                          (data_deltas.DATETIME.dt.time==datetime.time(16,22,0))]\n",
    "data_exits = data_deltas.groupby('DATETIME')[['EXITS_delta']].sum()\n",
    "data_exits['DATE'] = data_exits.index.date\n",
    "data_exits['DAY'] = data_exits.index.dayofweek\n",
    "data_exits = data_exits.merge(yankee_schedule,left_on='DATE',right_on='Date',how='left')\n",
    "data_exits.loc[data_exits.Opp.isnull(),'OffPeak'] = data_exits.loc[data_exits.Opp.isnull(),'EXITS_delta']\n",
    "data_exits.loc[~data_exits.Opp.isnull(),'Peak'] = data_exits.loc[~data_exits.Opp.isnull(),'EXITS_delta']\n",
    "data_exits = data_exits[['DATE','DAY','Peak','OffPeak']]"
   ]
  },
  {
   "cell_type": "code",
   "execution_count": null,
   "metadata": {
    "collapsed": false
   },
   "outputs": [],
   "source": [
    "data_exits['t1'] = data_exits.OffPeak.shift(1)\n",
    "data_exits['t7'] = data_exits.OffPeak.shift(7)\n",
    "data_exits['t8'] = data_exits.OffPeak.shift(8)\n",
    "data_exits['t14'] = data_exits.OffPeak.shift(14)\n",
    "data_exits['t15'] = data_exits.OffPeak.shift(15)"
   ]
  },
  {
   "cell_type": "code",
   "execution_count": null,
   "metadata": {
    "collapsed": false
   },
   "outputs": [],
   "source": [
    "data_exits['pred'] = data_exits.t1+data_exits.t7-data_exits.t8"
   ]
  },
  {
   "cell_type": "code",
   "execution_count": null,
   "metadata": {
    "collapsed": false
   },
   "outputs": [],
   "source": []
  },
  {
   "cell_type": "code",
   "execution_count": null,
   "metadata": {
    "collapsed": false
   },
   "outputs": [],
   "source": [
    "data_exits"
   ]
  },
  {
   "cell_type": "code",
   "execution_count": null,
   "metadata": {
    "collapsed": false
   },
   "outputs": [],
   "source": [
    "data_exits.head()"
   ]
  },
  {
   "cell_type": "code",
   "execution_count": null,
   "metadata": {
    "collapsed": false
   },
   "outputs": [],
   "source": [
    "data.EXITS.sum()"
   ]
  },
  {
   "cell_type": "code",
   "execution_count": null,
   "metadata": {
    "collapsed": false
   },
   "outputs": [],
   "source": [
    "x = merge_station_strict(data_t1)\n",
    "x[x.STATION=='SUTPHIN BLVD'].EXITS.sum()"
   ]
  },
  {
   "cell_type": "code",
   "execution_count": null,
   "metadata": {
    "collapsed": false
   },
   "outputs": [],
   "source": [
    "station_rollup_t0 = calc_deltas(data_t0).groupby('STATION')[['ENTRIES_delta','EXITS_delta']].sum()\n",
    "station_rollup_t0[station_rollup_t0.index=='42 ST-PA BUS TE']"
   ]
  },
  {
   "cell_type": "code",
   "execution_count": null,
   "metadata": {
    "collapsed": false
   },
   "outputs": [],
   "source": [
    "station_rollup_t0 = calc_deltas(data_t1).groupby('STATION')[['ENTRIES_delta','EXITS_delta']].sum()\n",
    "station_rollup_t0[station_rollup_t0.index=='42 ST-PORT AUTH']"
   ]
  },
  {
   "cell_type": "code",
   "execution_count": null,
   "metadata": {
    "collapsed": false
   },
   "outputs": [],
   "source": [
    "station_rollup_t0 = agg_by_station(calc_deltas(data_t0),['ENTRIES_delta','EXITS_delta'])\n",
    "station_rollup_t0[station_rollup_t0.index=='SUTPHIN BLVD']"
   ]
  },
  {
   "cell_type": "code",
   "execution_count": null,
   "metadata": {
    "collapsed": false
   },
   "outputs": [],
   "source": [
    "x = merge_station(calc_deltas(data_t0))\n",
    "x[x.STATION=='SUTPHIN BLVD'].Station.unique()"
   ]
  },
  {
   "cell_type": "code",
   "execution_count": null,
   "metadata": {
    "collapsed": false
   },
   "outputs": [],
   "source": [
    "station_rollup_t1 = agg_by_station(calc_deltas(data_t0),['ENTRIES_delta','EXITS_delta'])\n",
    "station_rollup_t1[station_rollup_t1.index=='42 ST-PA BUS TE']"
   ]
  },
  {
   "cell_type": "code",
   "execution_count": null,
   "metadata": {
    "collapsed": false
   },
   "outputs": [],
   "source": [
    "x[x.Station=='42 ST-PA BUS TE'].STATION.unique()"
   ]
  },
  {
   "cell_type": "code",
   "execution_count": null,
   "metadata": {
    "collapsed": false
   },
   "outputs": [],
   "source": [
    "x[x.STATION=='42 ST-PA BUS TE'].Station.unique()"
   ]
  },
  {
   "cell_type": "code",
   "execution_count": null,
   "metadata": {
    "collapsed": false
   },
   "outputs": [],
   "source": [
    "station_rollup_t0 = calc_deltas(data_t0).groupby('STATION')[['ENTRIES_delta','EXITS_delta']].sum()\n",
    "station_rollup_t0[station_rollup_t0.index=='42 ST-PORT AUTH']"
   ]
  },
  {
   "cell_type": "code",
   "execution_count": null,
   "metadata": {
    "collapsed": false
   },
   "outputs": [],
   "source": [
    "yankee_schedule = get_yankee_schedule()"
   ]
  },
  {
   "cell_type": "code",
   "execution_count": null,
   "metadata": {
    "collapsed": false
   },
   "outputs": [],
   "source": [
    "source = 'https://www.dropbox.com/s/2g5itrjc6mo4huu/yankee_home_2013.csv?dl=1'\n",
    "pd.read_csv(source)"
   ]
  },
  {
   "cell_type": "code",
   "execution_count": null,
   "metadata": {
    "collapsed": false
   },
   "outputs": [],
   "source": [
    "    source = 'https://www.dropbox.com/s/2g5itrjc6mo4huu/yankee_home_2013.csv?dl=1'\n",
    "    sched = pd.read_csv(source)\n",
    "    sched['Datetime'] = sched.apply(lambda x:\n",
    "                                    datetime.datetime.strptime(x.Datetime,\n",
    "                                                               '%m/%d/%Y %H:%M'))"
   ]
  },
  {
   "cell_type": "code",
   "execution_count": null,
   "metadata": {
    "collapsed": false
   },
   "outputs": [],
   "source": [
    "datetime.datetime.strptime(sched.Datetime[0],\n",
    "                                                               '%m/%d/%Y %H:%M')"
   ]
  },
  {
   "cell_type": "code",
   "execution_count": null,
   "metadata": {
    "collapsed": false
   },
   "outputs": [],
   "source": [
    "sched.apply(lambda x:datetime.datetime.strptime(x.Datetime,'%m/%d/%Y %H:%M'))"
   ]
  },
  {
   "cell_type": "code",
   "execution_count": null,
   "metadata": {
    "collapsed": true
   },
   "outputs": [],
   "source": [
    "x = 'http://web.mta.info/developers/data/nyct/turnstile/turnstile_{}.txt'"
   ]
  },
  {
   "cell_type": "code",
   "execution_count": null,
   "metadata": {
    "collapsed": false
   },
   "outputs": [],
   "source": [
    "x.format('3434')"
   ]
  },
  {
   "cell_type": "code",
   "execution_count": null,
   "metadata": {
    "collapsed": true
   },
   "outputs": [],
   "source": []
  }
 ],
 "metadata": {
  "kernelspec": {
   "display_name": "Python 2",
   "language": "python",
   "name": "python2"
  },
  "language_info": {
   "codemirror_mode": {
    "name": "ipython",
    "version": 2
   },
   "file_extension": ".py",
   "mimetype": "text/x-python",
   "name": "python",
   "nbconvert_exporter": "python",
   "pygments_lexer": "ipython2",
   "version": "2.7.11"
  }
 },
 "nbformat": 4,
 "nbformat_minor": 0
}

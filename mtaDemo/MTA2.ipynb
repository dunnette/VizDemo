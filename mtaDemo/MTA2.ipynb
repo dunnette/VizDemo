{
 "cells": [
  {
   "cell_type": "code",
   "execution_count": null,
   "metadata": {
    "collapsed": true
   },
   "outputs": [],
   "source": [
    "import datetime\n",
    "import pandas as pd\n",
    "import urllib2\n",
    "import csv\n",
    "import numpy as np\n",
    "from matplotlib import pyplot as plt"
   ]
  },
  {
   "cell_type": "code",
   "execution_count": null,
   "metadata": {
    "collapsed": false
   },
   "outputs": [],
   "source": [
    "def get_mta_df(source, original_format=True):\n",
    "    if original_format:\n",
    "        return get_mta_df_old(source)\n",
    "    else:\n",
    "        return get_mta_df_new(source)\n",
    "\n",
    "def get_mta_df_old(source):\n",
    "    # Import data format prior to 10/18/14\n",
    "    col_names = ['C/A', 'UNIT', 'SCP', 'DATETIME', 'DESC', 'ENTRIES', 'EXITS']\n",
    "    raw_data = urllib2.urlopen(source)\n",
    "    reader = csv.reader((raw_line.replace('\\0','') for raw_line in raw_data), delimiter=\",\")\n",
    "    mta_list = list()\n",
    "    for row in reader:\n",
    "        for entry_num in range(0,8):\n",
    "            offset = entry_num*5\n",
    "            try:\n",
    "                mta_list.append([row[0], row[1], row[2], \n",
    "                                 datetime.datetime.strptime('{} {}'.format(row[3+offset],\n",
    "                                                                           row[4+offset]),\n",
    "                                                            '%m-%d-%y %H:%M:%S'),\n",
    "                                 row[5+offset], int(row[6+offset]), int(row[7+offset]),\n",
    "                                ])\n",
    "            except:\n",
    "                pass\n",
    "    mta_df = pd.DataFrame(mta_list, columns = col_names)\n",
    "    return mta_df\n",
    "\n",
    "def get_mta_df_new(source):\n",
    "    # Import data format post 10/18/14\n",
    "    col_names = ['C/A', 'UNIT', 'SCP', 'STATION', 'LINENAME', 'DIVISION', \n",
    "                 'DATE', 'TIME', 'DESC', 'ENTRIES', 'EXITS']\n",
    "    mta_df = pd.read_csv(source, sep = ',', skiprows=1, header=None, names=col_names)\n",
    "    mta_df['DATETIME'] = mta_df.apply(lambda x: \n",
    "                                      datetime.datetime.strptime('{} {}'.format(x.DATE,x.TIME),\n",
    "                                                                 '%m/%d/%Y %H:%M:%S'), axis=1)\n",
    "    return mta_df\n",
    "\n",
    "def get_mta_df_by_date(date):\n",
    "    original_format = date < datetime.datetime(2014,10,18)\n",
    "    source_url_temp = 'http://web.mta.info/developers/data/nyct/turnstile/turnstile_{}.txt'\n",
    "    source_url = source_url_temp.format(date.strftime('%y%m%d'))\n",
    "    return get_mta_df(source_url,original_format)\n",
    "\n",
    "def get_mta_df_by_date_range(date, num_weeks):\n",
    "    df_arry = []\n",
    "    for week in range(0, num_weeks):\n",
    "        run_date = date + datetime.timedelta(days = week*7)\n",
    "        df_arry.append(get_mta_df_by_date(run_date))\n",
    "    return pd.concat(df_arry)\n",
    "\n",
    "def agg_by_station(target_df, stat_array):\n",
    "    merged_df = merge_station(target_df)\n",
    "    return merged_df.groupby('Station')[stat_array].sum()\n",
    "\n",
    "def agg_by_station_date(target_df, stat_array):\n",
    "    merged_df = merge_station(target_df)\n",
    "    return merged_df.groupby(['Station','DATE'])[stat_array].sum()\n",
    "\n",
    "def merge_station(target_df):\n",
    "    return merge_station_strict(target_df)\n",
    "\n",
    "def get_yankee_schedule():\n",
    "    source = 'https://www.dropbox.com/s/2g5itrjc6mo4huu/yankee_home_2013.csv?dl=1'\n",
    "    sched = pd.read_csv(source)\n",
    "    # Restrict to night games\n",
    "    sched = sched[sched['D/N']=='N']\n",
    "    sched['Datetime'] = sched.apply(lambda x:\n",
    "                                    datetime.datetime.strptime(x.Datetime,\n",
    "                                                               '%m/%d/%Y %H:%M'),axis=1)\n",
    "    sched['Date'] = sched.Datetime.dt.date\n",
    "    return sched[['Datetime','Date','Opp','Attendance']]\n",
    "\n",
    "def get_station_table():\n",
    "    source = 'http://web.mta.info/developers/resources/nyct/turnstile/Remote-Booth-Station.xls'\n",
    "    station_table = pd.read_excel(source)\n",
    "    return station_table\n",
    "\n",
    "def merge_station_strict(target_df):\n",
    "    station_table_raw = get_station_table()\n",
    "    station_table = station_table_raw[['Remote','Booth','Station']].drop_duplicates()\n",
    "    station_table = station_table.groupby(['Remote','Booth']).sum().reset_index()\n",
    "    merged_df = target_df.merge(station_table,\n",
    "                                left_on=['UNIT','C/A'],\n",
    "                                right_on=['Remote','Booth'],\n",
    "                                how='left')\n",
    "    return merged_df\n",
    "\n",
    "def merge_station_fuzzy(target_df):\n",
    "    station_table_raw = get_station_table()\n",
    "    station_table = station_table_raw[['Remote','Station']].drop_duplicates()\n",
    "    station_table = station_table.groupby(['Remote']).sum().reset_index()\n",
    "    merged_df = target_df.merge(station_table,left_on='UNIT',right_on='Remote',how='left')\n",
    "    return merged_df\n",
    "\n",
    "def calc_deltas(df):\n",
    "    data_df = df[df.DESC=='REGULAR'].sort_values(['C/A','UNIT','SCP','DATETIME'])\n",
    "    data_df_lag = data_df.groupby(['C/A','UNIT','SCP']).transform(lambda x:x.shift(-1))\n",
    "    data_df.loc[:,'ENTRIES_end'] = data_df_lag['ENTRIES']\n",
    "    data_df.loc[:,'EXITS_end'] = data_df_lag['EXITS']\n",
    "    data_df['ENTRIES_delta'] = data_df.ENTRIES_end - data_df.ENTRIES\n",
    "    data_df['EXITS_delta'] = data_df.EXITS_end - data_df.EXITS\n",
    "    \n",
    "    # Discard negative counts\n",
    "    data_df.loc[data_df['ENTRIES_delta']<0,'ENTRIES_delta'] = 0\n",
    "    data_df.loc[data_df['EXITS_delta']<0,'EXITS_delta'] = 0\n",
    "    \n",
    "    # Discard counts implying > 20 rotations per minute (20*60*4)\n",
    "    data_df.loc[data_df['ENTRIES_delta']>4800,'ENTRIES_delta'] = 0\n",
    "    data_df.loc[data_df['EXITS_delta']>4800,'EXITS_delta'] = 0\n",
    "    \n",
    "    return data_df"
   ]
  },
  {
   "cell_type": "code",
   "execution_count": null,
   "metadata": {
    "collapsed": false
   },
   "outputs": [],
   "source": [
    "##What is the total number of entries & exits across the subway system for August 1, 2013?"
   ]
  },
  {
   "cell_type": "code",
   "execution_count": null,
   "metadata": {
    "collapsed": false
   },
   "outputs": [],
   "source": [
    "data = get_mta_df_by_date(datetime.datetime(2013,8,3))\n",
    "data_deltas = calc_deltas(data)\n",
    "data_deltas = data_deltas[(data_deltas.DATETIME>=datetime.datetime(2013,8,1))&\n",
    "                          (data_deltas.DATETIME<datetime.datetime(2013,8,2))]\n",
    "data_deltas[['ENTRIES_delta','EXITS_delta']].sum()"
   ]
  },
  {
   "cell_type": "code",
   "execution_count": null,
   "metadata": {
    "collapsed": false
   },
   "outputs": [],
   "source": [
    "#Let’s define the busy-ness as sum of entry & exit count. What station was the busiest on August 1, 2013? What turnstile was the busiest on that date?"
   ]
  },
  {
   "cell_type": "code",
   "execution_count": null,
   "metadata": {
    "collapsed": false
   },
   "outputs": [],
   "source": [
    "data = get_mta_df_by_date(datetime.datetime(2013,8,3))\n",
    "data_deltas = calc_deltas(data)\n",
    "data_deltas = data_deltas[(data_deltas.DATETIME>=datetime.datetime(2013,8,1))&\n",
    "                          (data_deltas.DATETIME<datetime.datetime(2013,8,2))]\n",
    "station_rollup = agg_by_station(data_deltas,['ENTRIES_delta','EXITS_delta'])\n",
    "station_rollup['TOTAL_delta'] = station_rollup.ENTRIES_delta + station_rollup.EXITS_delta\n",
    "station_rollup.sort_values('TOTAL_delta',ascending=False).head(3)"
   ]
  },
  {
   "cell_type": "code",
   "execution_count": null,
   "metadata": {
    "collapsed": false
   },
   "outputs": [],
   "source": [
    "turnstile_rollup = data_deltas.groupby(['C/A','UNIT','SCP'])[['ENTRIES_delta','EXITS_delta']].sum()\n",
    "turnstile_rollup['TOTAL_delta'] = turnstile_rollup.ENTRIES_delta + turnstile_rollup.EXITS_delta\n",
    "turnstile_rollup.sort_values('TOTAL_delta',ascending=False).head(3)"
   ]
  },
  {
   "cell_type": "code",
   "execution_count": null,
   "metadata": {
    "collapsed": false
   },
   "outputs": [],
   "source": [
    "#What were the busiest and least-busy stations in the system over all of July 2013?\n",
    "data = get_mta_df_by_date_range(datetime.datetime(2013,7,6),5)\n",
    "data_deltas = calc_deltas(data)\n",
    "data_deltas = data_deltas[(data_deltas.DATETIME>=datetime.datetime(2013,7,1))&\n",
    "                          (data_deltas.DATETIME<datetime.datetime(2013,8,1))]\n",
    "station_rollup = agg_by_station(data_deltas,['ENTRIES_delta','EXITS_delta'])\n",
    "station_rollup['TOTAL_delta'] = station_rollup.ENTRIES_delta + station_rollup.EXITS_delta\n",
    "station_rollup.sort_values('TOTAL_delta',ascending=False).head(3)"
   ]
  },
  {
   "cell_type": "code",
   "execution_count": null,
   "metadata": {
    "collapsed": false
   },
   "outputs": [],
   "source": [
    "station_rollup.sort_values('TOTAL_delta',ascending=False).tail(3)"
   ]
  },
  {
   "cell_type": "code",
   "execution_count": null,
   "metadata": {
    "collapsed": false
   },
   "outputs": [],
   "source": [
    "#Which station had the highest average number of entries between midnight & 4am on Fridays in July 2013?\n",
    "data = get_mta_df_by_date_range(datetime.datetime(2013,7,6),5)\n",
    "data_deltas = calc_deltas(data)\n",
    "data_deltas = data_deltas[(data_deltas.DATETIME>=datetime.datetime(2013,7,1))&\n",
    "                          (data_deltas.DATETIME<datetime.datetime(2013,8,1))&\n",
    "                          (data_deltas.DATETIME.dt.time==datetime.time(0,0,0))&\n",
    "                          (data_deltas.DATETIME.dt.dayofweek==4)]\n",
    "station_rollup = agg_by_station(data_deltas,['ENTRIES_delta','EXITS_delta'])\n",
    "station_rollup.sort_values('ENTRIES_delta',ascending=False).head(3)"
   ]
  },
  {
   "cell_type": "code",
   "execution_count": null,
   "metadata": {
    "collapsed": false
   },
   "outputs": [],
   "source": [
    "#What stations have seen the most usage growth/decline in the last year?\n",
    "data_t0 = get_mta_df_by_date_range(datetime.datetime(2015,1,3),4)\n",
    "data_t1 = get_mta_df_by_date_range(datetime.datetime(2016,1,2),4)"
   ]
  },
  {
   "cell_type": "code",
   "execution_count": null,
   "metadata": {
    "collapsed": false
   },
   "outputs": [],
   "source": [
    "station_rollup_t0 = calc_deltas(data_t0).groupby('STATION')[['ENTRIES_delta','EXITS_delta']].sum()\n",
    "station_rollup_t1 = calc_deltas(data_t1).groupby('STATION')[['ENTRIES_delta','EXITS_delta']].sum()\n",
    "station_rollup = station_rollup_t0.join(station_rollup_t1, lsuffix='_t0', rsuffix='_t1')\n",
    "station_rollup['YoY'] = station_rollup.ENTRIES_delta_t1 + station_rollup.EXITS_delta_t1 - station_rollup.ENTRIES_delta_t0 - station_rollup.EXITS_delta_t0\n",
    "station_rollup.sort_values('YoY').head()"
   ]
  },
  {
   "cell_type": "code",
   "execution_count": null,
   "metadata": {
    "collapsed": false,
    "scrolled": true
   },
   "outputs": [],
   "source": [
    "station_rollup_t0 = agg_by_station(calc_deltas(data_t0),['ENTRIES_delta','EXITS_delta'])\n",
    "station_rollup_t1 = agg_by_station(calc_deltas(data_t1),['ENTRIES_delta','EXITS_delta'])\n",
    "station_rollup = station_rollup_t0.join(station_rollup_t1, lsuffix='_t0', rsuffix='_t1')\n",
    "station_rollup['YoY'] = station_rollup.ENTRIES_delta_t1 + station_rollup.EXITS_delta_t1 - station_rollup.ENTRIES_delta_t0 - station_rollup.EXITS_delta_t0\n",
    "station_rollup.sort_values('YoY').head()"
   ]
  },
  {
   "cell_type": "code",
   "execution_count": null,
   "metadata": {
    "collapsed": false
   },
   "outputs": [],
   "source": [
    "station_rollup.sort_values('YoY').tail()"
   ]
  },
  {
   "cell_type": "code",
   "execution_count": null,
   "metadata": {
    "collapsed": false
   },
   "outputs": [],
   "source": [
    "#What dates are the least busy? Could you identify days on which stations were not operating at full capacity or closed entirely?\n",
    "data = get_mta_df_by_date_range(datetime.datetime(2015,1,3),2)\n",
    "data_deltas = calc_deltas(data)\n",
    "data_deltas.groupby('DATE')[['ENTRIES_delta','EXITS_delta']].sum()"
   ]
  },
  {
   "cell_type": "code",
   "execution_count": null,
   "metadata": {
    "collapsed": false
   },
   "outputs": [],
   "source": [
    "station_rollup = agg_by_station_date(data_deltas,['ENTRIES_delta','EXITS_delta'])\n",
    "station_capacity = station_rollup.reset_index(level=1,drop=True).groupby(level=0).agg({'ENTRIES_delta':max,\n",
    "                                                                                       'EXITS_delta':max})\n",
    "station_utilization = station_rollup.div(station_capacity)"
   ]
  },
  {
   "cell_type": "code",
   "execution_count": null,
   "metadata": {
    "collapsed": false
   },
   "outputs": [],
   "source": [
    "station_utilization[(station_utilization.ENTRIES_delta<0.5)|\n",
    "                    (station_utilization.EXITS_delta<0.5)]"
   ]
  },
  {
   "cell_type": "code",
   "execution_count": null,
   "metadata": {
    "collapsed": false
   },
   "outputs": [],
   "source": []
  },
  {
   "cell_type": "code",
   "execution_count": null,
   "metadata": {
    "collapsed": true
   },
   "outputs": [],
   "source": [
    "# Day of week, Day of month, month, Line, Division, Station, unit, Yankees"
   ]
  },
  {
   "cell_type": "code",
   "execution_count": null,
   "metadata": {
    "collapsed": true
   },
   "outputs": [],
   "source": [
    "yankee_schedule = get_yankee_schedule()\n",
    "\n",
    "data = get_mta_df_by_date_range(datetime.datetime(2013,8,17),4)"
   ]
  },
  {
   "cell_type": "code",
   "execution_count": null,
   "metadata": {
    "collapsed": false
   },
   "outputs": [],
   "source": [
    "data_deltas = calc_deltas(data)\n",
    "data_deltas = data_deltas[(data_deltas.UNIT=='R195')&\n",
    "                          (data_deltas.DATETIME.dt.time==datetime.time(16,22,0))]\n",
    "data_exits = data_deltas.groupby('DATETIME')[['EXITS_delta']].sum()\n",
    "data_exits['DATE'] = data_exits.index.date\n",
    "data_exits['DAY'] = data_exits.index.dayofweek\n",
    "data_exits = data_exits.merge(yankee_schedule,left_on='DATE',right_on='Date',how='left')"
   ]
  },
  {
   "cell_type": "code",
   "execution_count": null,
   "metadata": {
    "collapsed": false
   },
   "outputs": [],
   "source": [
    "data_exits.EXITS_delta.shift(-1)"
   ]
  },
  {
   "cell_type": "code",
   "execution_count": null,
   "metadata": {
    "collapsed": false
   },
   "outputs": [],
   "source": [
    "44117*.34"
   ]
  },
  {
   "cell_type": "code",
   "execution_count": null,
   "metadata": {
    "collapsed": false
   },
   "outputs": [],
   "source": [
    "yankee_schedule = get_yankee_schedule()"
   ]
  },
  {
   "cell_type": "code",
   "execution_count": null,
   "metadata": {
    "collapsed": false
   },
   "outputs": [],
   "source": [
    "yankee_schedule"
   ]
  },
  {
   "cell_type": "code",
   "execution_count": null,
   "metadata": {
    "collapsed": false
   },
   "outputs": [],
   "source": [
    "yankee_schedule['Date'][0]"
   ]
  },
  {
   "cell_type": "code",
   "execution_count": null,
   "metadata": {
    "collapsed": false
   },
   "outputs": [],
   "source": [
    "data.EXITS.sum()"
   ]
  },
  {
   "cell_type": "code",
   "execution_count": null,
   "metadata": {
    "collapsed": false
   },
   "outputs": [],
   "source": [
    "x = merge_station_strict(data_t1)\n",
    "x[x.STATION=='SUTPHIN BLVD'].EXITS.sum()"
   ]
  },
  {
   "cell_type": "code",
   "execution_count": null,
   "metadata": {
    "collapsed": false
   },
   "outputs": [],
   "source": [
    "station_rollup_t0 = calc_deltas(data_t0).groupby('STATION')[['ENTRIES_delta','EXITS_delta']].sum()\n",
    "station_rollup_t0[station_rollup_t0.index=='42 ST-PA BUS TE']"
   ]
  },
  {
   "cell_type": "code",
   "execution_count": null,
   "metadata": {
    "collapsed": false
   },
   "outputs": [],
   "source": [
    "station_rollup_t0 = calc_deltas(data_t1).groupby('STATION')[['ENTRIES_delta','EXITS_delta']].sum()\n",
    "station_rollup_t0[station_rollup_t0.index=='42 ST-PORT AUTH']"
   ]
  },
  {
   "cell_type": "code",
   "execution_count": null,
   "metadata": {
    "collapsed": false
   },
   "outputs": [],
   "source": [
    "station_rollup_t0 = agg_by_station(calc_deltas(data_t0),['ENTRIES_delta','EXITS_delta'])\n",
    "station_rollup_t0[station_rollup_t0.index=='SUTPHIN BLVD']"
   ]
  },
  {
   "cell_type": "code",
   "execution_count": null,
   "metadata": {
    "collapsed": false
   },
   "outputs": [],
   "source": [
    "x = merge_station(calc_deltas(data_t0))\n",
    "x[x.STATION=='SUTPHIN BLVD'].Station.unique()"
   ]
  },
  {
   "cell_type": "code",
   "execution_count": null,
   "metadata": {
    "collapsed": false
   },
   "outputs": [],
   "source": [
    "station_rollup_t1 = agg_by_station(calc_deltas(data_t0),['ENTRIES_delta','EXITS_delta'])\n",
    "station_rollup_t1[station_rollup_t1.index=='42 ST-PA BUS TE']"
   ]
  },
  {
   "cell_type": "code",
   "execution_count": null,
   "metadata": {
    "collapsed": false
   },
   "outputs": [],
   "source": [
    "x[x.Station=='42 ST-PA BUS TE'].STATION.unique()"
   ]
  },
  {
   "cell_type": "code",
   "execution_count": null,
   "metadata": {
    "collapsed": false
   },
   "outputs": [],
   "source": [
    "x[x.STATION=='42 ST-PA BUS TE'].Station.unique()"
   ]
  },
  {
   "cell_type": "code",
   "execution_count": null,
   "metadata": {
    "collapsed": false
   },
   "outputs": [],
   "source": [
    "station_rollup_t0 = calc_deltas(data_t0).groupby('STATION')[['ENTRIES_delta','EXITS_delta']].sum()\n",
    "station_rollup_t0[station_rollup_t0.index=='42 ST-PORT AUTH']"
   ]
  },
  {
   "cell_type": "code",
   "execution_count": null,
   "metadata": {
    "collapsed": false
   },
   "outputs": [],
   "source": []
  },
  {
   "cell_type": "code",
   "execution_count": null,
   "metadata": {
    "collapsed": false
   },
   "outputs": [],
   "source": [
    "source = 'https://www.dropbox.com/s/2g5itrjc6mo4huu/yankee_home_2013.csv?dl=1'\n",
    "pd.read_csv(source)"
   ]
  },
  {
   "cell_type": "code",
   "execution_count": null,
   "metadata": {
    "collapsed": false
   },
   "outputs": [],
   "source": [
    "    source = 'https://www.dropbox.com/s/2g5itrjc6mo4huu/yankee_home_2013.csv?dl=1'\n",
    "    sched = pd.read_csv(source)\n",
    "    sched['Datetime'] = sched.apply(lambda x:\n",
    "                                    datetime.datetime.strptime(x.Datetime,\n",
    "                                                               '%m/%d/%Y %H:%M'))"
   ]
  },
  {
   "cell_type": "code",
   "execution_count": null,
   "metadata": {
    "collapsed": false
   },
   "outputs": [],
   "source": [
    "datetime.datetime.strptime(sched.Datetime[0],\n",
    "                                                               '%m/%d/%Y %H:%M')"
   ]
  },
  {
   "cell_type": "code",
   "execution_count": null,
   "metadata": {
    "collapsed": false
   },
   "outputs": [],
   "source": [
    "sched.apply(lambda x:datetime.datetime.strptime(x.Datetime,'%m/%d/%Y %H:%M'))"
   ]
  },
  {
   "cell_type": "code",
   "execution_count": null,
   "metadata": {
    "collapsed": true
   },
   "outputs": [],
   "source": [
    "x = 'http://web.mta.info/developers/data/nyct/turnstile/turnstile_{}.txt'"
   ]
  },
  {
   "cell_type": "code",
   "execution_count": null,
   "metadata": {
    "collapsed": false
   },
   "outputs": [],
   "source": [
    "x.format('3434')"
   ]
  },
  {
   "cell_type": "code",
   "execution_count": null,
   "metadata": {
    "collapsed": true
   },
   "outputs": [],
   "source": []
  }
 ],
 "metadata": {
  "kernelspec": {
   "display_name": "Python 2",
   "language": "python",
   "name": "python2"
  },
  "language_info": {
   "codemirror_mode": {
    "name": "ipython",
    "version": 2
   },
   "file_extension": ".py",
   "mimetype": "text/x-python",
   "name": "python",
   "nbconvert_exporter": "python",
   "pygments_lexer": "ipython2",
   "version": "2.7.11"
  }
 },
 "nbformat": 4,
 "nbformat_minor": 0
}

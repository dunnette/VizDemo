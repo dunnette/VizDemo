{
 "cells": [
  {
   "cell_type": "code",
   "execution_count": 1,
   "metadata": {
    "collapsed": true
   },
   "outputs": [],
   "source": [
    "import datetime\n",
    "import pandas as pd\n",
    "import urllib2\n",
    "import csv\n",
    "import datetime"
   ]
  },
  {
   "cell_type": "code",
   "execution_count": 2,
   "metadata": {
    "collapsed": false
   },
   "outputs": [],
   "source": [
    "def get_mta_df(source, original_format=True):\n",
    "    if original_format:\n",
    "        return get_mta_df_old(source)\n",
    "    else:\n",
    "        return get_mta_df_new(source)\n",
    "\n",
    "def get_mta_df_old(source):\n",
    "    # Import data format prior to 10/18/14\n",
    "    col_names = ['C/A', 'UNIT', 'SCP', 'DATETIME', 'DESC', 'ENTRIES', 'EXITS']\n",
    "    raw_data = urllib2.urlopen(source)\n",
    "    reader = csv.reader((raw_line.replace('\\0','') for raw_line in raw_data), delimiter=\",\")\n",
    "    mta_list = list()\n",
    "    for row in reader:\n",
    "        for entry_num in range(0,8):\n",
    "            offset = entry_num*5\n",
    "            try:\n",
    "                mta_list.append([row[0], row[1], row[2], \n",
    "                                 datetime.datetime.strptime('{} {}'.format(row[3+offset],\n",
    "                                                                           row[4+offset]),'%m-%d-%y %H:%M:%S'),\n",
    "                                 row[5+offset], int(row[6+offset]), int(row[7+offset]),\n",
    "                                ])\n",
    "            except:\n",
    "                pass\n",
    "    mta_df = pd.DataFrame(mta_list, columns = col_names)\n",
    "    return mta_df\n",
    "\n",
    "def get_mta_df_new(source):\n",
    "    # Import data format post 10/18/14\n",
    "    col_names = ['C/A', 'UNIT', 'SCP', 'STATION', 'LINENAME', 'DIVISION', \n",
    "                 'DATE', 'TIME', 'DESC', 'ENTRIES', 'EXITS']\n",
    "    mta_df = pd.read_csv(source, sep = ',', skiprows=1, header=None, names=col_names)\n",
    "    mta_df['DATETIME'] = mta_df.apply(lambda x: \n",
    "                                      datetime.datetime.strptime('{} {}'.format(x.DATE,x.TIME),\n",
    "                                                                 '%m/%d/%Y %H:%M:%S'), axis=1)\n",
    "    return mta_df\n",
    "\n",
    "def get_mta_df_by_date(date):\n",
    "    original_format = date < datetime.datetime(2014,10,18)\n",
    "    source_url = 'http://web.mta.info/developers/data/nyct/turnstile/turnstile_{}.txt'.format(date.strftime('%y%m%d'))\n",
    "    return get_mta_df(source_url,original_format)\n",
    "\n",
    "def get_mta_df_by_date_range(date, num_weeks):\n",
    "    df_arry = []\n",
    "    for week in range(0, num_weeks):\n",
    "        run_date = date + datetime.timedelta(days = week*7)\n",
    "        df_arry.append(get_mta_df_by_date(run_date))\n",
    "    return pd.concat(df_arry)\n",
    "\n",
    "def agg_by_station(target_df, stat_array):\n",
    "    station_table = get_station_table()\n",
    "    merged_df = target_df.merge(station_table,left_on='UNIT',right_on='Remote',how='left')\n",
    "    return merged_df.groupby('Station')[stat_array].sum()\n",
    "\n",
    "def calc_deltas(df):\n",
    "    data_df = df[df.DESC=='REGULAR'].sort_values(['C/A','UNIT','SCP','DATETIME'])\n",
    "    data_df_lag = data_df.groupby(['C/A','UNIT','SCP']).transform(lambda x:x.shift(-1))\n",
    "    data_df.loc[:,'ENTRIES_end'] = data_df_lag['ENTRIES']\n",
    "    data_df.loc[:,'EXITS_end'] = data_df_lag['EXITS']\n",
    "    data_df['ENTRIES_delta'] = data_df.ENTRIES_end - data_df.ENTRIES\n",
    "    data_df['EXITS_delta'] = data_df.EXITS_end - data_df.EXITS\n",
    "    \n",
    "    # Discard negative counts\n",
    "    data_df.loc[data_df['ENTRIES_delta']<0,'ENTRIES_delta'] = 0\n",
    "    data_df.loc[data_df['EXITS_delta']<0,'EXITS_delta'] = 0\n",
    "    \n",
    "    # Discard counts implying > 20 rotations per minute (20*60*4)\n",
    "    data_df.loc[data_df['ENTRIES_delta']>4800,'ENTRIES_delta'] = 0\n",
    "    data_df.loc[data_df['EXITS_delta']>4800,'EXITS_delta'] = 0\n",
    "    \n",
    "    return data_df\n",
    "\n",
    "def get_station_table():\n",
    "    source = 'http://web.mta.info/developers/resources/nyct/turnstile/Remote-Booth-Station.xls'\n",
    "    station_table = pd.read_excel(source)\n",
    "    return station_table[['Remote','Station']].drop_duplicates().groupby('Remote').sum().reset_index()"
   ]
  },
  {
   "cell_type": "code",
   "execution_count": 3,
   "metadata": {
    "collapsed": false
   },
   "outputs": [],
   "source": [
    "##What is the total number of entries & exits across the subway system for August 1, 2013?"
   ]
  },
  {
   "cell_type": "code",
   "execution_count": 4,
   "metadata": {
    "collapsed": false
   },
   "outputs": [
    {
     "data": {
      "text/plain": [
       "ENTRIES_delta    5562793\n",
       "EXITS_delta      4409520\n",
       "dtype: float64"
      ]
     },
     "execution_count": 4,
     "metadata": {},
     "output_type": "execute_result"
    }
   ],
   "source": [
    "data = get_mta_df_by_date(datetime.datetime(2013,8,3))\n",
    "data_deltas = calc_deltas(data)\n",
    "data_deltas = data_deltas[(data_deltas.DATETIME>=datetime.datetime(2013,8,1))&\n",
    "                          (data_deltas.DATETIME<datetime.datetime(2013,8,2))]\n",
    "data_deltas[['ENTRIES_delta','EXITS_delta']].sum()"
   ]
  },
  {
   "cell_type": "code",
   "execution_count": 5,
   "metadata": {
    "collapsed": false
   },
   "outputs": [],
   "source": [
    "#Let’s define the busy-ness as sum of entry & exit count. What station was the busiest on August 1, 2013? What turnstile was the busiest on that date?"
   ]
  },
  {
   "cell_type": "code",
   "execution_count": 6,
   "metadata": {
    "collapsed": false
   },
   "outputs": [
    {
     "data": {
      "text/html": [
       "<div>\n",
       "<table border=\"1\" class=\"dataframe\">\n",
       "  <thead>\n",
       "    <tr style=\"text-align: right;\">\n",
       "      <th></th>\n",
       "      <th>ENTRIES_delta</th>\n",
       "      <th>EXITS_delta</th>\n",
       "      <th>TOTAL_delta</th>\n",
       "    </tr>\n",
       "    <tr>\n",
       "      <th>Station</th>\n",
       "      <th></th>\n",
       "      <th></th>\n",
       "      <th></th>\n",
       "    </tr>\n",
       "  </thead>\n",
       "  <tbody>\n",
       "    <tr>\n",
       "      <th>34 ST-PENN STA</th>\n",
       "      <td>175185</td>\n",
       "      <td>155858</td>\n",
       "      <td>331043</td>\n",
       "    </tr>\n",
       "    <tr>\n",
       "      <th>42 ST-GRD CNTRL</th>\n",
       "      <td>164823</td>\n",
       "      <td>151271</td>\n",
       "      <td>316094</td>\n",
       "    </tr>\n",
       "    <tr>\n",
       "      <th>34 ST-HERALD SQ</th>\n",
       "      <td>122548</td>\n",
       "      <td>114529</td>\n",
       "      <td>237077</td>\n",
       "    </tr>\n",
       "  </tbody>\n",
       "</table>\n",
       "</div>"
      ],
      "text/plain": [
       "                 ENTRIES_delta  EXITS_delta  TOTAL_delta\n",
       "Station                                                 \n",
       "34 ST-PENN STA          175185       155858       331043\n",
       "42 ST-GRD CNTRL         164823       151271       316094\n",
       "34 ST-HERALD SQ         122548       114529       237077"
      ]
     },
     "execution_count": 6,
     "metadata": {},
     "output_type": "execute_result"
    }
   ],
   "source": [
    "data = get_mta_df_by_date(datetime.datetime(2013,8,3))\n",
    "data_deltas = calc_deltas(data)\n",
    "data_deltas = data_deltas[(data_deltas.DATETIME>=datetime.datetime(2013,8,1))&\n",
    "                          (data_deltas.DATETIME<datetime.datetime(2013,8,2))]\n",
    "station_rollup = agg_by_station(data_deltas,['ENTRIES_delta','EXITS_delta'])\n",
    "station_rollup['TOTAL_delta'] = station_rollup.ENTRIES_delta + station_rollup.EXITS_delta\n",
    "station_rollup.sort_values('TOTAL_delta',ascending=False).head(3)"
   ]
  },
  {
   "cell_type": "code",
   "execution_count": 7,
   "metadata": {
    "collapsed": false
   },
   "outputs": [
    {
     "data": {
      "text/html": [
       "<div>\n",
       "<table border=\"1\" class=\"dataframe\">\n",
       "  <thead>\n",
       "    <tr style=\"text-align: right;\">\n",
       "      <th></th>\n",
       "      <th></th>\n",
       "      <th></th>\n",
       "      <th>ENTRIES_delta</th>\n",
       "      <th>EXITS_delta</th>\n",
       "      <th>TOTAL_delta</th>\n",
       "    </tr>\n",
       "    <tr>\n",
       "      <th>C/A</th>\n",
       "      <th>UNIT</th>\n",
       "      <th>SCP</th>\n",
       "      <th></th>\n",
       "      <th></th>\n",
       "      <th></th>\n",
       "    </tr>\n",
       "  </thead>\n",
       "  <tbody>\n",
       "    <tr>\n",
       "      <th>N063A</th>\n",
       "      <th>R011</th>\n",
       "      <th>00-00-00</th>\n",
       "      <td>1882</td>\n",
       "      <td>9963</td>\n",
       "      <td>11845</td>\n",
       "    </tr>\n",
       "    <tr>\n",
       "      <th>R249</th>\n",
       "      <th>R179</th>\n",
       "      <th>01-00-09</th>\n",
       "      <td>964</td>\n",
       "      <td>10559</td>\n",
       "      <td>11523</td>\n",
       "    </tr>\n",
       "    <tr>\n",
       "      <th>R240</th>\n",
       "      <th>R047</th>\n",
       "      <th>00-00-00</th>\n",
       "      <td>3755</td>\n",
       "      <td>7302</td>\n",
       "      <td>11057</td>\n",
       "    </tr>\n",
       "  </tbody>\n",
       "</table>\n",
       "</div>"
      ],
      "text/plain": [
       "                     ENTRIES_delta  EXITS_delta  TOTAL_delta\n",
       "C/A   UNIT SCP                                              \n",
       "N063A R011 00-00-00           1882         9963        11845\n",
       "R249  R179 01-00-09            964        10559        11523\n",
       "R240  R047 00-00-00           3755         7302        11057"
      ]
     },
     "execution_count": 7,
     "metadata": {},
     "output_type": "execute_result"
    }
   ],
   "source": [
    "turnstile_rollup = data_deltas.groupby(['C/A','UNIT','SCP'])[['ENTRIES_delta','EXITS_delta']].sum()\n",
    "turnstile_rollup['TOTAL_delta'] = turnstile_rollup.ENTRIES_delta + turnstile_rollup.EXITS_delta\n",
    "turnstile_rollup.sort_values('TOTAL_delta',ascending=False).head(3)"
   ]
  },
  {
   "cell_type": "code",
   "execution_count": 8,
   "metadata": {
    "collapsed": false
   },
   "outputs": [
    {
     "data": {
      "text/html": [
       "<div>\n",
       "<table border=\"1\" class=\"dataframe\">\n",
       "  <thead>\n",
       "    <tr style=\"text-align: right;\">\n",
       "      <th></th>\n",
       "      <th>ENTRIES_delta</th>\n",
       "      <th>EXITS_delta</th>\n",
       "      <th>TOTAL_delta</th>\n",
       "    </tr>\n",
       "    <tr>\n",
       "      <th>Station</th>\n",
       "      <th></th>\n",
       "      <th></th>\n",
       "      <th></th>\n",
       "    </tr>\n",
       "  </thead>\n",
       "  <tbody>\n",
       "    <tr>\n",
       "      <th>34 ST-PENN STA</th>\n",
       "      <td>4577775</td>\n",
       "      <td>4018278</td>\n",
       "      <td>8596053</td>\n",
       "    </tr>\n",
       "    <tr>\n",
       "      <th>42 ST-GRD CNTRL</th>\n",
       "      <td>3848128</td>\n",
       "      <td>3610248</td>\n",
       "      <td>7458376</td>\n",
       "    </tr>\n",
       "    <tr>\n",
       "      <th>34 ST-HERALD SQ</th>\n",
       "      <td>3205652</td>\n",
       "      <td>2985543</td>\n",
       "      <td>6191195</td>\n",
       "    </tr>\n",
       "  </tbody>\n",
       "</table>\n",
       "</div>"
      ],
      "text/plain": [
       "                 ENTRIES_delta  EXITS_delta  TOTAL_delta\n",
       "Station                                                 \n",
       "34 ST-PENN STA         4577775      4018278      8596053\n",
       "42 ST-GRD CNTRL        3848128      3610248      7458376\n",
       "34 ST-HERALD SQ        3205652      2985543      6191195"
      ]
     },
     "execution_count": 8,
     "metadata": {},
     "output_type": "execute_result"
    }
   ],
   "source": [
    "#What were the busiest and least-busy stations in the system over all of July 2013?\n",
    "data = get_mta_df_by_date_range(datetime.datetime(2013,7,6),5)\n",
    "data_deltas = calc_deltas(data)\n",
    "data_deltas = data_deltas[(data_deltas.DATETIME>=datetime.datetime(2013,7,1))&\n",
    "                          (data_deltas.DATETIME<datetime.datetime(2013,8,1))]\n",
    "station_rollup = agg_by_station(data_deltas,['ENTRIES_delta','EXITS_delta'])\n",
    "station_rollup['TOTAL_delta'] = station_rollup.ENTRIES_delta + station_rollup.EXITS_delta\n",
    "station_rollup.sort_values('TOTAL_delta',ascending=False).head(3)"
   ]
  },
  {
   "cell_type": "code",
   "execution_count": 9,
   "metadata": {
    "collapsed": false
   },
   "outputs": [
    {
     "data": {
      "text/html": [
       "<div>\n",
       "<table border=\"1\" class=\"dataframe\">\n",
       "  <thead>\n",
       "    <tr style=\"text-align: right;\">\n",
       "      <th></th>\n",
       "      <th>ENTRIES_delta</th>\n",
       "      <th>EXITS_delta</th>\n",
       "      <th>TOTAL_delta</th>\n",
       "    </tr>\n",
       "    <tr>\n",
       "      <th>Station</th>\n",
       "      <th></th>\n",
       "      <th></th>\n",
       "      <th></th>\n",
       "    </tr>\n",
       "  </thead>\n",
       "  <tbody>\n",
       "    <tr>\n",
       "      <th>ORCHARD BEACH</th>\n",
       "      <td>16260</td>\n",
       "      <td>1002</td>\n",
       "      <td>17262</td>\n",
       "    </tr>\n",
       "    <tr>\n",
       "      <th>BROAD CHANNEL</th>\n",
       "      <td>5772</td>\n",
       "      <td>2677</td>\n",
       "      <td>8449</td>\n",
       "    </tr>\n",
       "    <tr>\n",
       "      <th>AQUEDUCT TRACK</th>\n",
       "      <td>117</td>\n",
       "      <td>152</td>\n",
       "      <td>269</td>\n",
       "    </tr>\n",
       "  </tbody>\n",
       "</table>\n",
       "</div>"
      ],
      "text/plain": [
       "                ENTRIES_delta  EXITS_delta  TOTAL_delta\n",
       "Station                                                \n",
       "ORCHARD BEACH           16260         1002        17262\n",
       "BROAD CHANNEL            5772         2677         8449\n",
       "AQUEDUCT TRACK            117          152          269"
      ]
     },
     "execution_count": 9,
     "metadata": {},
     "output_type": "execute_result"
    }
   ],
   "source": [
    "station_rollup.sort_values('TOTAL_delta',ascending=False).tail(3)"
   ]
  },
  {
   "cell_type": "code",
   "execution_count": 10,
   "metadata": {
    "collapsed": false
   },
   "outputs": [
    {
     "data": {
      "text/html": [
       "<div>\n",
       "<table border=\"1\" class=\"dataframe\">\n",
       "  <thead>\n",
       "    <tr style=\"text-align: right;\">\n",
       "      <th></th>\n",
       "      <th>ENTRIES_delta</th>\n",
       "      <th>EXITS_delta</th>\n",
       "    </tr>\n",
       "    <tr>\n",
       "      <th>Station</th>\n",
       "      <th></th>\n",
       "      <th></th>\n",
       "    </tr>\n",
       "  </thead>\n",
       "  <tbody>\n",
       "    <tr>\n",
       "      <th>42 ST-TIMES SQ</th>\n",
       "      <td>23885</td>\n",
       "      <td>6115</td>\n",
       "    </tr>\n",
       "    <tr>\n",
       "      <th>34 ST-HERALD SQ</th>\n",
       "      <td>11211</td>\n",
       "      <td>4441</td>\n",
       "    </tr>\n",
       "    <tr>\n",
       "      <th>34 ST-PENN STA</th>\n",
       "      <td>9361</td>\n",
       "      <td>5119</td>\n",
       "    </tr>\n",
       "  </tbody>\n",
       "</table>\n",
       "</div>"
      ],
      "text/plain": [
       "                 ENTRIES_delta  EXITS_delta\n",
       "Station                                    \n",
       "42 ST-TIMES SQ           23885         6115\n",
       "34 ST-HERALD SQ          11211         4441\n",
       "34 ST-PENN STA            9361         5119"
      ]
     },
     "execution_count": 10,
     "metadata": {},
     "output_type": "execute_result"
    }
   ],
   "source": [
    "#Which station had the highest average number of entries between midnight & 4am on Fridays in July 2013?\n",
    "data = get_mta_df_by_date_range(datetime.datetime(2013,7,6),5)\n",
    "data_deltas = calc_deltas(data)\n",
    "data_deltas = data_deltas[(data_deltas.DATETIME>=datetime.datetime(2013,7,1))&\n",
    "                          (data_deltas.DATETIME<datetime.datetime(2013,8,1))&\n",
    "                          (data_deltas.DATETIME.apply(lambda x:x.time()==datetime.time(0,0,0)))&\n",
    "                          (data_deltas.DATETIME.apply(lambda x:x.weekday()==4))]\n",
    "station_rollup = agg_by_station(data_deltas,['ENTRIES_delta','EXITS_delta'])\n",
    "station_rollup.sort_values('ENTRIES_delta',ascending=False).head(3)"
   ]
  },
  {
   "cell_type": "code",
   "execution_count": 11,
   "metadata": {
    "collapsed": false
   },
   "outputs": [],
   "source": [
    "#What stations have seen the most usage growth/decline in the last year?\n",
    "data_t0 = get_mta_df_by_date_range(datetime.datetime(2015,1,3),4)\n",
    "data_t1 = get_mta_df_by_date_range(datetime.datetime(2016,1,2),4)"
   ]
  },
  {
   "cell_type": "code",
   "execution_count": 12,
   "metadata": {
    "collapsed": false
   },
   "outputs": [
    {
     "data": {
      "text/html": [
       "<div>\n",
       "<table border=\"1\" class=\"dataframe\">\n",
       "  <thead>\n",
       "    <tr style=\"text-align: right;\">\n",
       "      <th></th>\n",
       "      <th>ENTRIES_delta_t0</th>\n",
       "      <th>EXITS_delta_t0</th>\n",
       "      <th>ENTRIES_delta_t1</th>\n",
       "      <th>EXITS_delta_t1</th>\n",
       "      <th>YoY</th>\n",
       "    </tr>\n",
       "    <tr>\n",
       "      <th>Station</th>\n",
       "      <th></th>\n",
       "      <th></th>\n",
       "      <th></th>\n",
       "      <th></th>\n",
       "      <th></th>\n",
       "    </tr>\n",
       "  </thead>\n",
       "  <tbody>\n",
       "    <tr>\n",
       "      <th>42 ST-PA BUS TE</th>\n",
       "      <td>2464347</td>\n",
       "      <td>1891440</td>\n",
       "      <td>2204050</td>\n",
       "      <td>1719541</td>\n",
       "      <td>-432196</td>\n",
       "    </tr>\n",
       "    <tr>\n",
       "      <th>57 ST-7 AVE</th>\n",
       "      <td>645657</td>\n",
       "      <td>396508</td>\n",
       "      <td>496571</td>\n",
       "      <td>208273</td>\n",
       "      <td>-337321</td>\n",
       "    </tr>\n",
       "    <tr>\n",
       "      <th>ROCKAWAY AVE</th>\n",
       "      <td>251385</td>\n",
       "      <td>196693</td>\n",
       "      <td>129160</td>\n",
       "      <td>74923</td>\n",
       "      <td>-243995</td>\n",
       "    </tr>\n",
       "    <tr>\n",
       "      <th>34 ST-PENN STA</th>\n",
       "      <td>3977861</td>\n",
       "      <td>3389783</td>\n",
       "      <td>3884926</td>\n",
       "      <td>3269389</td>\n",
       "      <td>-213329</td>\n",
       "    </tr>\n",
       "    <tr>\n",
       "      <th>METS-WILLETS PT</th>\n",
       "      <td>144020</td>\n",
       "      <td>167220</td>\n",
       "      <td>49402</td>\n",
       "      <td>53041</td>\n",
       "      <td>-208797</td>\n",
       "    </tr>\n",
       "  </tbody>\n",
       "</table>\n",
       "</div>"
      ],
      "text/plain": [
       "                 ENTRIES_delta_t0  EXITS_delta_t0  ENTRIES_delta_t1  \\\n",
       "Station                                                               \n",
       "42 ST-PA BUS TE           2464347         1891440           2204050   \n",
       "57 ST-7 AVE                645657          396508            496571   \n",
       "ROCKAWAY AVE               251385          196693            129160   \n",
       "34 ST-PENN STA            3977861         3389783           3884926   \n",
       "METS-WILLETS PT            144020          167220             49402   \n",
       "\n",
       "                 EXITS_delta_t1     YoY  \n",
       "Station                                  \n",
       "42 ST-PA BUS TE         1719541 -432196  \n",
       "57 ST-7 AVE              208273 -337321  \n",
       "ROCKAWAY AVE              74923 -243995  \n",
       "34 ST-PENN STA          3269389 -213329  \n",
       "METS-WILLETS PT           53041 -208797  "
      ]
     },
     "execution_count": 12,
     "metadata": {},
     "output_type": "execute_result"
    }
   ],
   "source": [
    "station_rollup_t0 = agg_by_station(calc_deltas(data_t0),['ENTRIES_delta','EXITS_delta'])\n",
    "station_rollup_t1 = agg_by_station(calc_deltas(data_t1),['ENTRIES_delta','EXITS_delta'])\n",
    "station_rollup = station_rollup_t0.join(station_rollup_t1, lsuffix='_t0', rsuffix='_t1')\n",
    "station_rollup['YoY'] = station_rollup.ENTRIES_delta_t1 + station_rollup.EXITS_delta_t1 - station_rollup.ENTRIES_delta_t0 - station_rollup.EXITS_delta_t0\n",
    "station_rollup.sort_values('YoY').head()"
   ]
  },
  {
   "cell_type": "code",
   "execution_count": 13,
   "metadata": {
    "collapsed": false
   },
   "outputs": [
    {
     "data": {
      "text/html": [
       "<div>\n",
       "<table border=\"1\" class=\"dataframe\">\n",
       "  <thead>\n",
       "    <tr style=\"text-align: right;\">\n",
       "      <th></th>\n",
       "      <th>ENTRIES_delta_t0</th>\n",
       "      <th>EXITS_delta_t0</th>\n",
       "      <th>ENTRIES_delta_t1</th>\n",
       "      <th>EXITS_delta_t1</th>\n",
       "      <th>YoY</th>\n",
       "    </tr>\n",
       "    <tr>\n",
       "      <th>Station</th>\n",
       "      <th></th>\n",
       "      <th></th>\n",
       "      <th></th>\n",
       "      <th></th>\n",
       "      <th></th>\n",
       "    </tr>\n",
       "  </thead>\n",
       "  <tbody>\n",
       "    <tr>\n",
       "      <th>PARK PLACEWORLD TRADE CTRCHAMBERS ST</th>\n",
       "      <td>1086861</td>\n",
       "      <td>606336</td>\n",
       "      <td>1168761</td>\n",
       "      <td>616102</td>\n",
       "      <td>91666</td>\n",
       "    </tr>\n",
       "    <tr>\n",
       "      <th>ESSEX STDELANCEY ST</th>\n",
       "      <td>569412</td>\n",
       "      <td>441528</td>\n",
       "      <td>602674</td>\n",
       "      <td>501440</td>\n",
       "      <td>93174</td>\n",
       "    </tr>\n",
       "    <tr>\n",
       "      <th>SARATOGA AVE</th>\n",
       "      <td>132489</td>\n",
       "      <td>53927</td>\n",
       "      <td>201410</td>\n",
       "      <td>84654</td>\n",
       "      <td>99648</td>\n",
       "    </tr>\n",
       "    <tr>\n",
       "      <th>FULTON ST</th>\n",
       "      <td>1535037</td>\n",
       "      <td>1359578</td>\n",
       "      <td>1667897</td>\n",
       "      <td>1420392</td>\n",
       "      <td>193674</td>\n",
       "    </tr>\n",
       "    <tr>\n",
       "      <th>MAIN ST</th>\n",
       "      <td>1238318</td>\n",
       "      <td>1067246</td>\n",
       "      <td>1393136</td>\n",
       "      <td>1151015</td>\n",
       "      <td>238587</td>\n",
       "    </tr>\n",
       "  </tbody>\n",
       "</table>\n",
       "</div>"
      ],
      "text/plain": [
       "                                      ENTRIES_delta_t0  EXITS_delta_t0  \\\n",
       "Station                                                                  \n",
       "PARK PLACEWORLD TRADE CTRCHAMBERS ST           1086861          606336   \n",
       "ESSEX STDELANCEY ST                             569412          441528   \n",
       "SARATOGA AVE                                    132489           53927   \n",
       "FULTON ST                                      1535037         1359578   \n",
       "MAIN ST                                        1238318         1067246   \n",
       "\n",
       "                                      ENTRIES_delta_t1  EXITS_delta_t1     YoY  \n",
       "Station                                                                         \n",
       "PARK PLACEWORLD TRADE CTRCHAMBERS ST           1168761          616102   91666  \n",
       "ESSEX STDELANCEY ST                             602674          501440   93174  \n",
       "SARATOGA AVE                                    201410           84654   99648  \n",
       "FULTON ST                                      1667897         1420392  193674  \n",
       "MAIN ST                                        1393136         1151015  238587  "
      ]
     },
     "execution_count": 13,
     "metadata": {},
     "output_type": "execute_result"
    }
   ],
   "source": [
    "station_rollup.sort_values('YoY').tail()"
   ]
  },
  {
   "cell_type": "code",
   "execution_count": 14,
   "metadata": {
    "collapsed": false
   },
   "outputs": [],
   "source": [
    "#What dates are the least busy? Could you identify days on which stations were not operating at full capacity or closed entirely?\n",
    "data = get_mta_df_by_date_range(datetime.datetime(2015,1,3),2)"
   ]
  },
  {
   "cell_type": "code",
   "execution_count": null,
   "metadata": {
    "collapsed": false
   },
   "outputs": [],
   "source": [
    "    data_df = df[df.DESC=='REGULAR'].sort_values(['C/A','UNIT','SCP','DATETIME'])\n",
    "    data_df_lag = data_df.groupby(['C/A','UNIT','SCP']).transform(lambda x:x.shift(-1))\n",
    "    data_df.loc[:,'ENTRIES_end'] = data_df_lag['ENTRIES']\n",
    "    data_df.loc[:,'EXITS_end'] = data_df_lag['EXITS']"
   ]
  },
  {
   "cell_type": "code",
   "execution_count": null,
   "metadata": {
    "collapsed": true
   },
   "outputs": [],
   "source": []
  }
 ],
 "metadata": {
  "kernelspec": {
   "display_name": "Python 2",
   "language": "python",
   "name": "python2"
  },
  "language_info": {
   "codemirror_mode": {
    "name": "ipython",
    "version": 2
   },
   "file_extension": ".py",
   "mimetype": "text/x-python",
   "name": "python",
   "nbconvert_exporter": "python",
   "pygments_lexer": "ipython2",
   "version": "2.7.11"
  }
 },
 "nbformat": 4,
 "nbformat_minor": 0
}
